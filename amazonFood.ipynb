{
  "nbformat": 4,
  "nbformat_minor": 0,
  "metadata": {
    "colab": {
      "name": "amazonFood",
      "provenance": [],
      "collapsed_sections": [],
      "include_colab_link": true
    },
    "kernelspec": {
      "name": "python3",
      "display_name": "Python 3"
    },
    "accelerator": "TPU"
  },
  "cells": [
    {
      "cell_type": "markdown",
      "metadata": {
        "id": "view-in-github",
        "colab_type": "text"
      },
      "source": [
        "<a href=\"https://colab.research.google.com/github/Lvby/amazon/blob/master/amazonFood.ipynb\" target=\"_parent\"><img src=\"https://colab.research.google.com/assets/colab-badge.svg\" alt=\"Open In Colab\"/></a>"
      ]
    },
    {
      "cell_type": "code",
      "metadata": {
        "id": "ULPmGnXEsdsZ",
        "colab_type": "code",
        "outputId": "b415f0f7-ab7d-47b0-b4c1-ea765d9e2d87",
        "colab": {
          "base_uri": "https://localhost:8080/",
          "height": 34
        }
      },
      "source": [
        "from google.colab import drive\n",
        "drive.mount('/content/drive')"
      ],
      "execution_count": 9,
      "outputs": [
        {
          "output_type": "stream",
          "text": [
            "Drive already mounted at /content/drive; to attempt to forcibly remount, call drive.mount(\"/content/drive\", force_remount=True).\n"
          ],
          "name": "stdout"
        }
      ]
    },
    {
      "cell_type": "code",
      "metadata": {
        "id": "HB8NogYrkbW2",
        "colab_type": "code",
        "colab": {}
      },
      "source": [
        "#https://stackoverflow.com/questions/52530578/how-use-tpu-in-google-colab\n",
        "# This address identifies the TPU we'll use when configuring TensorFlow.\n",
        "TPU_WORKER = 'grpc://' + os.environ['COLAB_TPU_ADDR']"
      ],
      "execution_count": 0,
      "outputs": []
    },
    {
      "cell_type": "code",
      "metadata": {
        "id": "KC-76uyYWyi6",
        "colab_type": "code",
        "colab": {}
      },
      "source": [
        "import sys\n",
        "# insert at 1, 0 is the script path (or '' in REPL)\n",
        "sys.path.insert(1, '/content/drive/My Drive/amazon-fine-food-reviews/')\n",
        "\n",
        "import attention\n"
      ],
      "execution_count": 0,
      "outputs": []
    },
    {
      "cell_type": "code",
      "metadata": {
        "id": "WbG2ibftsRWB",
        "colab_type": "code",
        "outputId": "ec527e66-5fc0-4a9c-fdfd-265f45c2f372",
        "colab": {
          "base_uri": "https://localhost:8080/",
          "height": 306
        }
      },
      "source": [
        "import io\n",
        "import os\n",
        "import pandas as pd\n",
        "import numpy as np\n",
        "#import data that stored on Google drive\n",
        "import io\n",
        "df = pd.read_csv('/content/drive/My Drive/amazon-fine-food-reviews/Reviews.csv')\n",
        "# Dataset is now stored in a Pandas Dataframe\n",
        "df.head()"
      ],
      "execution_count": 38,
      "outputs": [
        {
          "output_type": "execute_result",
          "data": {
            "text/html": [
              "<div>\n",
              "<style scoped>\n",
              "    .dataframe tbody tr th:only-of-type {\n",
              "        vertical-align: middle;\n",
              "    }\n",
              "\n",
              "    .dataframe tbody tr th {\n",
              "        vertical-align: top;\n",
              "    }\n",
              "\n",
              "    .dataframe thead th {\n",
              "        text-align: right;\n",
              "    }\n",
              "</style>\n",
              "<table border=\"1\" class=\"dataframe\">\n",
              "  <thead>\n",
              "    <tr style=\"text-align: right;\">\n",
              "      <th></th>\n",
              "      <th>Id</th>\n",
              "      <th>ProductId</th>\n",
              "      <th>UserId</th>\n",
              "      <th>ProfileName</th>\n",
              "      <th>HelpfulnessNumerator</th>\n",
              "      <th>HelpfulnessDenominator</th>\n",
              "      <th>Score</th>\n",
              "      <th>Time</th>\n",
              "      <th>Summary</th>\n",
              "      <th>Text</th>\n",
              "    </tr>\n",
              "  </thead>\n",
              "  <tbody>\n",
              "    <tr>\n",
              "      <th>0</th>\n",
              "      <td>1</td>\n",
              "      <td>B001E4KFG0</td>\n",
              "      <td>A3SGXH7AUHU8GW</td>\n",
              "      <td>delmartian</td>\n",
              "      <td>1</td>\n",
              "      <td>1</td>\n",
              "      <td>5</td>\n",
              "      <td>1303862400</td>\n",
              "      <td>Good Quality Dog Food</td>\n",
              "      <td>I have bought several of the Vitality canned d...</td>\n",
              "    </tr>\n",
              "    <tr>\n",
              "      <th>1</th>\n",
              "      <td>2</td>\n",
              "      <td>B00813GRG4</td>\n",
              "      <td>A1D87F6ZCVE5NK</td>\n",
              "      <td>dll pa</td>\n",
              "      <td>0</td>\n",
              "      <td>0</td>\n",
              "      <td>1</td>\n",
              "      <td>1346976000</td>\n",
              "      <td>Not as Advertised</td>\n",
              "      <td>Product arrived labeled as Jumbo Salted Peanut...</td>\n",
              "    </tr>\n",
              "    <tr>\n",
              "      <th>2</th>\n",
              "      <td>3</td>\n",
              "      <td>B000LQOCH0</td>\n",
              "      <td>ABXLMWJIXXAIN</td>\n",
              "      <td>Natalia Corres \"Natalia Corres\"</td>\n",
              "      <td>1</td>\n",
              "      <td>1</td>\n",
              "      <td>4</td>\n",
              "      <td>1219017600</td>\n",
              "      <td>\"Delight\" says it all</td>\n",
              "      <td>This is a confection that has been around a fe...</td>\n",
              "    </tr>\n",
              "    <tr>\n",
              "      <th>3</th>\n",
              "      <td>4</td>\n",
              "      <td>B000UA0QIQ</td>\n",
              "      <td>A395BORC6FGVXV</td>\n",
              "      <td>Karl</td>\n",
              "      <td>3</td>\n",
              "      <td>3</td>\n",
              "      <td>2</td>\n",
              "      <td>1307923200</td>\n",
              "      <td>Cough Medicine</td>\n",
              "      <td>If you are looking for the secret ingredient i...</td>\n",
              "    </tr>\n",
              "    <tr>\n",
              "      <th>4</th>\n",
              "      <td>5</td>\n",
              "      <td>B006K2ZZ7K</td>\n",
              "      <td>A1UQRSCLF8GW1T</td>\n",
              "      <td>Michael D. Bigham \"M. Wassir\"</td>\n",
              "      <td>0</td>\n",
              "      <td>0</td>\n",
              "      <td>5</td>\n",
              "      <td>1350777600</td>\n",
              "      <td>Great taffy</td>\n",
              "      <td>Great taffy at a great price.  There was a wid...</td>\n",
              "    </tr>\n",
              "  </tbody>\n",
              "</table>\n",
              "</div>"
            ],
            "text/plain": [
              "   Id  ...                                               Text\n",
              "0   1  ...  I have bought several of the Vitality canned d...\n",
              "1   2  ...  Product arrived labeled as Jumbo Salted Peanut...\n",
              "2   3  ...  This is a confection that has been around a fe...\n",
              "3   4  ...  If you are looking for the secret ingredient i...\n",
              "4   5  ...  Great taffy at a great price.  There was a wid...\n",
              "\n",
              "[5 rows x 10 columns]"
            ]
          },
          "metadata": {
            "tags": []
          },
          "execution_count": 38
        }
      ]
    },
    {
      "cell_type": "code",
      "metadata": {
        "id": "w4Ya2oTosxlt",
        "colab_type": "code",
        "outputId": "9c1339b3-f548-4a82-a1cf-f15cc37c891c",
        "colab": {
          "base_uri": "https://localhost:8080/",
          "height": 34
        }
      },
      "source": [
        "# this block will be needed in the real dataset\n",
        "df=df.dropna()\n",
        "df=df[['Summary','Text']].reset_index(drop=True)\n",
        "df.head()\n",
        "\n",
        "len(df) #568411"
      ],
      "execution_count": 39,
      "outputs": [
        {
          "output_type": "execute_result",
          "data": {
            "text/plain": [
              "568411"
            ]
          },
          "metadata": {
            "tags": []
          },
          "execution_count": 39
        }
      ]
    },
    {
      "cell_type": "code",
      "metadata": {
        "id": "vyRJ1WsR2Crg",
        "colab_type": "code",
        "outputId": "6b721043-1a24-4c6c-d12f-49344b786d2a",
        "colab": {
          "base_uri": "https://localhost:8080/",
          "height": 221
        }
      },
      "source": [
        "print(\"preprocessing\")\n",
        "df[\"Text\"]=df[\"Text\"].str.lower()\n",
        "df[\"Summary\"]=df[\"Summary\"].str.lower()\n",
        "\n",
        "df.head()"
      ],
      "execution_count": 41,
      "outputs": [
        {
          "output_type": "stream",
          "text": [
            "preprocessing\n"
          ],
          "name": "stdout"
        },
        {
          "output_type": "execute_result",
          "data": {
            "text/html": [
              "<div>\n",
              "<style scoped>\n",
              "    .dataframe tbody tr th:only-of-type {\n",
              "        vertical-align: middle;\n",
              "    }\n",
              "\n",
              "    .dataframe tbody tr th {\n",
              "        vertical-align: top;\n",
              "    }\n",
              "\n",
              "    .dataframe thead th {\n",
              "        text-align: right;\n",
              "    }\n",
              "</style>\n",
              "<table border=\"1\" class=\"dataframe\">\n",
              "  <thead>\n",
              "    <tr style=\"text-align: right;\">\n",
              "      <th></th>\n",
              "      <th>Summary</th>\n",
              "      <th>Text</th>\n",
              "    </tr>\n",
              "  </thead>\n",
              "  <tbody>\n",
              "    <tr>\n",
              "      <th>0</th>\n",
              "      <td>good quality dog food</td>\n",
              "      <td>i have bought several of the vitality canned d...</td>\n",
              "    </tr>\n",
              "    <tr>\n",
              "      <th>1</th>\n",
              "      <td>not as advertised</td>\n",
              "      <td>product arrived labeled as jumbo salted peanut...</td>\n",
              "    </tr>\n",
              "    <tr>\n",
              "      <th>2</th>\n",
              "      <td>\"delight\" says it all</td>\n",
              "      <td>this is a confection that has been around a fe...</td>\n",
              "    </tr>\n",
              "    <tr>\n",
              "      <th>3</th>\n",
              "      <td>cough medicine</td>\n",
              "      <td>if you are looking for the secret ingredient i...</td>\n",
              "    </tr>\n",
              "    <tr>\n",
              "      <th>4</th>\n",
              "      <td>great taffy</td>\n",
              "      <td>great taffy at a great price.  there was a wid...</td>\n",
              "    </tr>\n",
              "  </tbody>\n",
              "</table>\n",
              "</div>"
            ],
            "text/plain": [
              "                 Summary                                               Text\n",
              "0  good quality dog food  i have bought several of the vitality canned d...\n",
              "1      not as advertised  product arrived labeled as jumbo salted peanut...\n",
              "2  \"delight\" says it all  this is a confection that has been around a fe...\n",
              "3         cough medicine  if you are looking for the secret ingredient i...\n",
              "4            great taffy  great taffy at a great price.  there was a wid..."
            ]
          },
          "metadata": {
            "tags": []
          },
          "execution_count": 41
        }
      ]
    },
    {
      "cell_type": "code",
      "metadata": {
        "id": "3goBk6shRsaG",
        "colab_type": "code",
        "outputId": "cdb34a9b-7d12-4f7a-f288-c928bf60f5cd",
        "colab": {
          "base_uri": "https://localhost:8080/",
          "height": 34
        }
      },
      "source": [
        "!pip install sentencepiece"
      ],
      "execution_count": 42,
      "outputs": [
        {
          "output_type": "stream",
          "text": [
            "Requirement already satisfied: sentencepiece in /usr/local/lib/python3.6/dist-packages (0.1.83)\n"
          ],
          "name": "stdout"
        }
      ]
    },
    {
      "cell_type": "code",
      "metadata": {
        "id": "Q4W_w-xmRzF_",
        "colab_type": "code",
        "outputId": "2362b0b7-654d-4456-850b-73a2c78d7b3f",
        "colab": {
          "base_uri": "https://localhost:8080/",
          "height": 34
        }
      },
      "source": [
        "import logging\n",
        "import sentencepiece as spm\n",
        "import os\n",
        "\n",
        "logging.basicConfig(level=logging.INFO)\n",
        "\n",
        "input_file ='to_mytxt2.txt'\n",
        "vocab_size = 8000\n",
        "prefix = 'm_bpe'\n",
        "\n",
        "\n",
        "templates = '--input={} --model_prefix={} --vocab_size={} --pad_id=0 --unk_id=1 --bos_id=2  --eos_id=3 --model_type=bpe'\n",
        "cmd = templates.format(input_file, prefix, vocab_size)\n",
        "\n",
        "spm.SentencePieceTrainer.train(cmd)\n",
        "print(\"BPE model trained!\")\n"
      ],
      "execution_count": 16,
      "outputs": [
        {
          "output_type": "stream",
          "text": [
            "BPE model trained!\n"
          ],
          "name": "stdout"
        }
      ]
    },
    {
      "cell_type": "code",
      "metadata": {
        "id": "xdNf252WRlgg",
        "colab_type": "code",
        "outputId": "0a816d25-b408-41bc-b7e5-3eee3d3fe407",
        "colab": {
          "base_uri": "https://localhost:8080/",
          "height": 119
        }
      },
      "source": [
        "# makes segmenter instance and loads the model file (m.model)\n",
        "sp_bpe = spm.SentencePieceProcessor()\n",
        "sp_bpe2 = spm.SentencePieceProcessor()\n",
        "sp_bpe.load('{}.model'.format(prefix))\n",
        "sp_bpe2.load('{}.model'.format(prefix))\n",
        "print(\"Trained BPE model loaded\")\n",
        "\n",
        "\n",
        "#option={\"unk\": \"UNK\",\"eos\": \"</s>\"}\n",
        "extra_options = 'bos:eos' #'reverse:bos:eos'\n",
        "sp_bpe.SetEncodeExtraOptions(extra_options)\n",
        "\n",
        "print(\"sp_bpe with extra options \")  \n",
        "print(sp_bpe.EncodeAsIds('so good'))\n",
        "print(sp_bpe.EncodeAsPieces('so good'))\n",
        "\n",
        "#print(\"sp_bpe2 without extra options \")\n",
        "#print(sp_bpe2.EncodeAsIds('so good'))\n",
        "#print(sp_bpe2.EncodeAsPieces('so good'))\n",
        "\n",
        "print(sp_bpe.DecodeIds([5]))\n",
        "# vocabulary size\n",
        "print(len(sp_bpe))"
      ],
      "execution_count": 43,
      "outputs": [
        {
          "output_type": "stream",
          "text": [
            "Trained BPE model loaded\n",
            "sp_bpe with extra options \n",
            "[2, 110, 143, 3]\n",
            "['<s>', '▁so', '▁good', '</s>']\n",
            "a\n",
            "8000\n"
          ],
          "name": "stdout"
        }
      ]
    },
    {
      "cell_type": "code",
      "metadata": {
        "id": "4XBAMdFUVnb6",
        "colab_type": "code",
        "colab": {}
      },
      "source": [
        "df.to_csv(r'/content/drive/My Drive/amazon-fine-food-reviews/to_mytxt2.txt', header=None, index=None, sep=' ', mode='a')\n"
      ],
      "execution_count": 0,
      "outputs": []
    },
    {
      "cell_type": "code",
      "metadata": {
        "id": "eG0m2fcISZCs",
        "colab_type": "code",
        "outputId": "93138f5a-4660-416b-afd3-2a28e2f96ec9",
        "colab": {
          "base_uri": "https://localhost:8080/",
          "height": 204
        }
      },
      "source": [
        "import warnings\n",
        "warnings.filterwarnings(\"ignore\")\n",
        "\n",
        "df[\"Tokened_Summary\"]=df[\"Summary\"].apply(lambda x:sp_bpe.encode_as_pieces(x))\n",
        "df[\"Tokened_Text\"]=df[\"Text\"].apply(lambda x:sp_bpe.encode_as_pieces(x))\n",
        "#val.head(10)\n",
        "\n",
        "\n",
        "df.head()"
      ],
      "execution_count": 44,
      "outputs": [
        {
          "output_type": "execute_result",
          "data": {
            "text/html": [
              "<div>\n",
              "<style scoped>\n",
              "    .dataframe tbody tr th:only-of-type {\n",
              "        vertical-align: middle;\n",
              "    }\n",
              "\n",
              "    .dataframe tbody tr th {\n",
              "        vertical-align: top;\n",
              "    }\n",
              "\n",
              "    .dataframe thead th {\n",
              "        text-align: right;\n",
              "    }\n",
              "</style>\n",
              "<table border=\"1\" class=\"dataframe\">\n",
              "  <thead>\n",
              "    <tr style=\"text-align: right;\">\n",
              "      <th></th>\n",
              "      <th>Summary</th>\n",
              "      <th>Text</th>\n",
              "      <th>Tokened_Summary</th>\n",
              "      <th>Tokened_Text</th>\n",
              "    </tr>\n",
              "  </thead>\n",
              "  <tbody>\n",
              "    <tr>\n",
              "      <th>0</th>\n",
              "      <td>good quality dog food</td>\n",
              "      <td>i have bought several of the vitality canned d...</td>\n",
              "      <td>[&lt;s&gt;, ▁good, ▁quality, ▁dog, ▁food, &lt;/s&gt;]</td>\n",
              "      <td>[&lt;s&gt;, ▁i, ▁have, ▁bought, ▁several, ▁of, ▁the,...</td>\n",
              "    </tr>\n",
              "    <tr>\n",
              "      <th>1</th>\n",
              "      <td>not as advertised</td>\n",
              "      <td>product arrived labeled as jumbo salted peanut...</td>\n",
              "      <td>[&lt;s&gt;, ▁not, ▁as, ▁advertised, &lt;/s&gt;]</td>\n",
              "      <td>[&lt;s&gt;, ▁product, ▁arrived, ▁labeled, ▁as, ▁j, u...</td>\n",
              "    </tr>\n",
              "    <tr>\n",
              "      <th>2</th>\n",
              "      <td>\"delight\" says it all</td>\n",
              "      <td>this is a confection that has been around a fe...</td>\n",
              "      <td>[&lt;s&gt;, ▁\", del, ight, \", ▁says, ▁it, ▁all, &lt;/s&gt;]</td>\n",
              "      <td>[&lt;s&gt;, ▁this, ▁is, ▁a, ▁conf, ection, ▁that, ▁h...</td>\n",
              "    </tr>\n",
              "    <tr>\n",
              "      <th>3</th>\n",
              "      <td>cough medicine</td>\n",
              "      <td>if you are looking for the secret ingredient i...</td>\n",
              "      <td>[&lt;s&gt;, ▁cough, ▁medicine, &lt;/s&gt;]</td>\n",
              "      <td>[&lt;s&gt;, ▁if, ▁you, ▁are, ▁looking, ▁for, ▁the, ▁...</td>\n",
              "    </tr>\n",
              "    <tr>\n",
              "      <th>4</th>\n",
              "      <td>great taffy</td>\n",
              "      <td>great taffy at a great price.  there was a wid...</td>\n",
              "      <td>[&lt;s&gt;, ▁great, ▁taffy, &lt;/s&gt;]</td>\n",
              "      <td>[&lt;s&gt;, ▁great, ▁taffy, ▁at, ▁a, ▁great, ▁price,...</td>\n",
              "    </tr>\n",
              "  </tbody>\n",
              "</table>\n",
              "</div>"
            ],
            "text/plain": [
              "                 Summary  ...                                       Tokened_Text\n",
              "0  good quality dog food  ...  [<s>, ▁i, ▁have, ▁bought, ▁several, ▁of, ▁the,...\n",
              "1      not as advertised  ...  [<s>, ▁product, ▁arrived, ▁labeled, ▁as, ▁j, u...\n",
              "2  \"delight\" says it all  ...  [<s>, ▁this, ▁is, ▁a, ▁conf, ection, ▁that, ▁h...\n",
              "3         cough medicine  ...  [<s>, ▁if, ▁you, ▁are, ▁looking, ▁for, ▁the, ▁...\n",
              "4            great taffy  ...  [<s>, ▁great, ▁taffy, ▁at, ▁a, ▁great, ▁price,...\n",
              "\n",
              "[5 rows x 4 columns]"
            ]
          },
          "metadata": {
            "tags": []
          },
          "execution_count": 44
        }
      ]
    },
    {
      "cell_type": "code",
      "metadata": {
        "id": "Y-l6BxfGSii6",
        "colab_type": "code",
        "outputId": "e8799872-94be-410b-d494-e9f0867918d5",
        "colab": {
          "base_uri": "https://localhost:8080/",
          "height": 204
        }
      },
      "source": [
        "df[\"Tokened_Summary\"]=df[\"Summary\"].apply(lambda x:sp_bpe.encode_as_ids(x))\n",
        "df[\"Tokened_Text\"]=df[\"Text\"].apply(lambda x:sp_bpe.encode_as_ids(x))\n",
        "#val.head(10)\n",
        "\n",
        "\n",
        "df.head()"
      ],
      "execution_count": 45,
      "outputs": [
        {
          "output_type": "execute_result",
          "data": {
            "text/html": [
              "<div>\n",
              "<style scoped>\n",
              "    .dataframe tbody tr th:only-of-type {\n",
              "        vertical-align: middle;\n",
              "    }\n",
              "\n",
              "    .dataframe tbody tr th {\n",
              "        vertical-align: top;\n",
              "    }\n",
              "\n",
              "    .dataframe thead th {\n",
              "        text-align: right;\n",
              "    }\n",
              "</style>\n",
              "<table border=\"1\" class=\"dataframe\">\n",
              "  <thead>\n",
              "    <tr style=\"text-align: right;\">\n",
              "      <th></th>\n",
              "      <th>Summary</th>\n",
              "      <th>Text</th>\n",
              "      <th>Tokened_Summary</th>\n",
              "      <th>Tokened_Text</th>\n",
              "    </tr>\n",
              "  </thead>\n",
              "  <tbody>\n",
              "    <tr>\n",
              "      <th>0</th>\n",
              "      <td>good quality dog food</td>\n",
              "      <td>i have bought several of the vitality canned d...</td>\n",
              "      <td>[2, 143, 589, 226, 194, 3]</td>\n",
              "      <td>[2, 6, 101, 496, 956, 46, 10, 1310, 545, 1421,...</td>\n",
              "    </tr>\n",
              "    <tr>\n",
              "      <th>1</th>\n",
              "      <td>not as advertised</td>\n",
              "      <td>product arrived labeled as jumbo salted peanut...</td>\n",
              "      <td>[2, 97, 117, 3030, 3]</td>\n",
              "      <td>[2, 162, 1093, 4698, 117, 123, 187, 960, 4277,...</td>\n",
              "    </tr>\n",
              "    <tr>\n",
              "      <th>2</th>\n",
              "      <td>\"delight\" says it all</td>\n",
              "      <td>this is a confection that has been around a fe...</td>\n",
              "      <td>[2, 37, 1544, 392, 7969, 1391, 39, 183, 3]</td>\n",
              "      <td>[2, 64, 49, 5, 2464, 2510, 83, 221, 357, 855, ...</td>\n",
              "    </tr>\n",
              "    <tr>\n",
              "      <th>3</th>\n",
              "      <td>cough medicine</td>\n",
              "      <td>if you are looking for the secret ingredient i...</td>\n",
              "      <td>[2, 5158, 3833, 3]</td>\n",
              "      <td>[2, 202, 77, 103, 774, 62, 10, 4777, 525, 50, ...</td>\n",
              "    </tr>\n",
              "    <tr>\n",
              "      <th>4</th>\n",
              "      <td>great taffy</td>\n",
              "      <td>great taffy at a great price.  there was a wid...</td>\n",
              "      <td>[2, 178, 6268, 3]</td>\n",
              "      <td>[2, 178, 6268, 163, 5, 178, 299, 7968, 312, 10...</td>\n",
              "    </tr>\n",
              "  </tbody>\n",
              "</table>\n",
              "</div>"
            ],
            "text/plain": [
              "                 Summary  ...                                       Tokened_Text\n",
              "0  good quality dog food  ...  [2, 6, 101, 496, 956, 46, 10, 1310, 545, 1421,...\n",
              "1      not as advertised  ...  [2, 162, 1093, 4698, 117, 123, 187, 960, 4277,...\n",
              "2  \"delight\" says it all  ...  [2, 64, 49, 5, 2464, 2510, 83, 221, 357, 855, ...\n",
              "3         cough medicine  ...  [2, 202, 77, 103, 774, 62, 10, 4777, 525, 50, ...\n",
              "4            great taffy  ...  [2, 178, 6268, 163, 5, 178, 299, 7968, 312, 10...\n",
              "\n",
              "[5 rows x 4 columns]"
            ]
          },
          "metadata": {
            "tags": []
          },
          "execution_count": 45
        }
      ]
    },
    {
      "cell_type": "code",
      "metadata": {
        "id": "9wRRZq3TS5if",
        "colab_type": "code",
        "outputId": "36fc1ba7-7ff1-46a8-dc6e-1048569be4b1",
        "colab": {
          "base_uri": "https://localhost:8080/",
          "height": 170
        }
      },
      "source": [
        "df['summSum']=df['Tokened_Summary'].str.len()\n",
        "df['summSum'].describe()"
      ],
      "execution_count": 46,
      "outputs": [
        {
          "output_type": "execute_result",
          "data": {
            "text/plain": [
              "count    568411.000000\n",
              "mean          7.297908\n",
              "std           3.463988\n",
              "min           3.000000\n",
              "25%           5.000000\n",
              "50%           6.000000\n",
              "75%           9.000000\n",
              "max          92.000000\n",
              "Name: summSum, dtype: float64"
            ]
          },
          "metadata": {
            "tags": []
          },
          "execution_count": 46
        }
      ]
    },
    {
      "cell_type": "code",
      "metadata": {
        "id": "eyJb6sT9S_FK",
        "colab_type": "code",
        "outputId": "328559b0-37c1-4fbc-f2e2-7b9e43f1dce1",
        "colab": {
          "base_uri": "https://localhost:8080/",
          "height": 170
        }
      },
      "source": [
        "df['textSum']=df['Tokened_Text'].str.len()\n",
        "df['textSum'].describe()"
      ],
      "execution_count": 47,
      "outputs": [
        {
          "output_type": "execute_result",
          "data": {
            "text/plain": [
              "count    568411.000000\n",
              "mean        105.445635\n",
              "std         109.038596\n",
              "min           5.000000\n",
              "25%          44.000000\n",
              "50%          72.000000\n",
              "75%         126.000000\n",
              "max        5100.000000\n",
              "Name: textSum, dtype: float64"
            ]
          },
          "metadata": {
            "tags": []
          },
          "execution_count": 47
        }
      ]
    },
    {
      "cell_type": "code",
      "metadata": {
        "id": "ixQARL7uTEQo",
        "colab_type": "code",
        "outputId": "ff6dbd5a-6799-408c-b10a-f037f10ae828",
        "colab": {
          "base_uri": "https://localhost:8080/",
          "height": 204
        }
      },
      "source": [
        "df.head()"
      ],
      "execution_count": 48,
      "outputs": [
        {
          "output_type": "execute_result",
          "data": {
            "text/html": [
              "<div>\n",
              "<style scoped>\n",
              "    .dataframe tbody tr th:only-of-type {\n",
              "        vertical-align: middle;\n",
              "    }\n",
              "\n",
              "    .dataframe tbody tr th {\n",
              "        vertical-align: top;\n",
              "    }\n",
              "\n",
              "    .dataframe thead th {\n",
              "        text-align: right;\n",
              "    }\n",
              "</style>\n",
              "<table border=\"1\" class=\"dataframe\">\n",
              "  <thead>\n",
              "    <tr style=\"text-align: right;\">\n",
              "      <th></th>\n",
              "      <th>Summary</th>\n",
              "      <th>Text</th>\n",
              "      <th>Tokened_Summary</th>\n",
              "      <th>Tokened_Text</th>\n",
              "      <th>summSum</th>\n",
              "      <th>textSum</th>\n",
              "    </tr>\n",
              "  </thead>\n",
              "  <tbody>\n",
              "    <tr>\n",
              "      <th>0</th>\n",
              "      <td>good quality dog food</td>\n",
              "      <td>i have bought several of the vitality canned d...</td>\n",
              "      <td>[2, 143, 589, 226, 194, 3]</td>\n",
              "      <td>[2, 6, 101, 496, 956, 46, 10, 1310, 545, 1421,...</td>\n",
              "      <td>6</td>\n",
              "      <td>56</td>\n",
              "    </tr>\n",
              "    <tr>\n",
              "      <th>1</th>\n",
              "      <td>not as advertised</td>\n",
              "      <td>product arrived labeled as jumbo salted peanut...</td>\n",
              "      <td>[2, 97, 117, 3030, 3]</td>\n",
              "      <td>[2, 162, 1093, 4698, 117, 123, 187, 960, 4277,...</td>\n",
              "      <td>5</td>\n",
              "      <td>44</td>\n",
              "    </tr>\n",
              "    <tr>\n",
              "      <th>2</th>\n",
              "      <td>\"delight\" says it all</td>\n",
              "      <td>this is a confection that has been around a fe...</td>\n",
              "      <td>[2, 37, 1544, 392, 7969, 1391, 39, 183, 3]</td>\n",
              "      <td>[2, 64, 49, 5, 2464, 2510, 83, 221, 357, 855, ...</td>\n",
              "      <td>9</td>\n",
              "      <td>135</td>\n",
              "    </tr>\n",
              "    <tr>\n",
              "      <th>3</th>\n",
              "      <td>cough medicine</td>\n",
              "      <td>if you are looking for the secret ingredient i...</td>\n",
              "      <td>[2, 5158, 3833, 3]</td>\n",
              "      <td>[2, 202, 77, 103, 774, 62, 10, 4777, 525, 50, ...</td>\n",
              "      <td>4</td>\n",
              "      <td>51</td>\n",
              "    </tr>\n",
              "    <tr>\n",
              "      <th>4</th>\n",
              "      <td>great taffy</td>\n",
              "      <td>great taffy at a great price.  there was a wid...</td>\n",
              "      <td>[2, 178, 6268, 3]</td>\n",
              "      <td>[2, 178, 6268, 163, 5, 178, 299, 7968, 312, 10...</td>\n",
              "      <td>4</td>\n",
              "      <td>34</td>\n",
              "    </tr>\n",
              "  </tbody>\n",
              "</table>\n",
              "</div>"
            ],
            "text/plain": [
              "                 Summary  ... textSum\n",
              "0  good quality dog food  ...      56\n",
              "1      not as advertised  ...      44\n",
              "2  \"delight\" says it all  ...     135\n",
              "3         cough medicine  ...      51\n",
              "4            great taffy  ...      34\n",
              "\n",
              "[5 rows x 6 columns]"
            ]
          },
          "metadata": {
            "tags": []
          },
          "execution_count": 48
        }
      ]
    },
    {
      "cell_type": "code",
      "metadata": {
        "id": "-rYFdK3nTKPF",
        "colab_type": "code",
        "outputId": "aeec4215-6ea5-460a-b069-af680df0deda",
        "colab": {
          "base_uri": "https://localhost:8080/",
          "height": 204
        }
      },
      "source": [
        "#remove columns which length of tokened_summary > 15 and length of tokened_text >60\n",
        "df = df[(df['textSum'] <60)&(df['summSum']<8)].reset_index(drop=True)\n",
        "df.head()"
      ],
      "execution_count": 49,
      "outputs": [
        {
          "output_type": "execute_result",
          "data": {
            "text/html": [
              "<div>\n",
              "<style scoped>\n",
              "    .dataframe tbody tr th:only-of-type {\n",
              "        vertical-align: middle;\n",
              "    }\n",
              "\n",
              "    .dataframe tbody tr th {\n",
              "        vertical-align: top;\n",
              "    }\n",
              "\n",
              "    .dataframe thead th {\n",
              "        text-align: right;\n",
              "    }\n",
              "</style>\n",
              "<table border=\"1\" class=\"dataframe\">\n",
              "  <thead>\n",
              "    <tr style=\"text-align: right;\">\n",
              "      <th></th>\n",
              "      <th>Summary</th>\n",
              "      <th>Text</th>\n",
              "      <th>Tokened_Summary</th>\n",
              "      <th>Tokened_Text</th>\n",
              "      <th>summSum</th>\n",
              "      <th>textSum</th>\n",
              "    </tr>\n",
              "  </thead>\n",
              "  <tbody>\n",
              "    <tr>\n",
              "      <th>0</th>\n",
              "      <td>good quality dog food</td>\n",
              "      <td>i have bought several of the vitality canned d...</td>\n",
              "      <td>[2, 143, 589, 226, 194, 3]</td>\n",
              "      <td>[2, 6, 101, 496, 956, 46, 10, 1310, 545, 1421,...</td>\n",
              "      <td>6</td>\n",
              "      <td>56</td>\n",
              "    </tr>\n",
              "    <tr>\n",
              "      <th>1</th>\n",
              "      <td>not as advertised</td>\n",
              "      <td>product arrived labeled as jumbo salted peanut...</td>\n",
              "      <td>[2, 97, 117, 3030, 3]</td>\n",
              "      <td>[2, 162, 1093, 4698, 117, 123, 187, 960, 4277,...</td>\n",
              "      <td>5</td>\n",
              "      <td>44</td>\n",
              "    </tr>\n",
              "    <tr>\n",
              "      <th>2</th>\n",
              "      <td>cough medicine</td>\n",
              "      <td>if you are looking for the secret ingredient i...</td>\n",
              "      <td>[2, 5158, 3833, 3]</td>\n",
              "      <td>[2, 202, 77, 103, 774, 62, 10, 4777, 525, 50, ...</td>\n",
              "      <td>4</td>\n",
              "      <td>51</td>\n",
              "    </tr>\n",
              "    <tr>\n",
              "      <th>3</th>\n",
              "      <td>great taffy</td>\n",
              "      <td>great taffy at a great price.  there was a wid...</td>\n",
              "      <td>[2, 178, 6268, 3]</td>\n",
              "      <td>[2, 178, 6268, 163, 5, 178, 299, 7968, 312, 10...</td>\n",
              "      <td>4</td>\n",
              "      <td>34</td>\n",
              "    </tr>\n",
              "    <tr>\n",
              "      <th>4</th>\n",
              "      <td>wonderful, tasty taffy</td>\n",
              "      <td>this taffy is so good.  it is very soft and ch...</td>\n",
              "      <td>[2, 810, 7972, 677, 6268, 3]</td>\n",
              "      <td>[2, 64, 6268, 49, 110, 143, 7968, 39, 49, 192,...</td>\n",
              "      <td>6</td>\n",
              "      <td>31</td>\n",
              "    </tr>\n",
              "  </tbody>\n",
              "</table>\n",
              "</div>"
            ],
            "text/plain": [
              "                  Summary  ... textSum\n",
              "0   good quality dog food  ...      56\n",
              "1       not as advertised  ...      44\n",
              "2          cough medicine  ...      51\n",
              "3             great taffy  ...      34\n",
              "4  wonderful, tasty taffy  ...      31\n",
              "\n",
              "[5 rows x 6 columns]"
            ]
          },
          "metadata": {
            "tags": []
          },
          "execution_count": 49
        }
      ]
    },
    {
      "cell_type": "code",
      "metadata": {
        "id": "mUiFko4TTPni",
        "colab_type": "code",
        "colab": {}
      },
      "source": [
        "df=df[['Tokened_Text','Tokened_Summary']]\n",
        "#df.head()"
      ],
      "execution_count": 0,
      "outputs": []
    },
    {
      "cell_type": "code",
      "metadata": {
        "id": "VFgWJ37bTXDg",
        "colab_type": "code",
        "outputId": "0c35ed7d-e657-4b6e-aab6-ed7b1327f4ea",
        "colab": {
          "base_uri": "https://localhost:8080/",
          "height": 34
        }
      },
      "source": [
        "len(df)"
      ],
      "execution_count": 51,
      "outputs": [
        {
          "output_type": "execute_result",
          "data": {
            "text/plain": [
              "171491"
            ]
          },
          "metadata": {
            "tags": []
          },
          "execution_count": 51
        }
      ]
    },
    {
      "cell_type": "code",
      "metadata": {
        "id": "n0jSxDR2Td8a",
        "colab_type": "code",
        "outputId": "39f100c0-bfb8-469e-80c2-800c539e185f",
        "colab": {
          "base_uri": "https://localhost:8080/",
          "height": 204
        }
      },
      "source": [
        "from sklearn.model_selection import train_test_split\n",
        "train, val = train_test_split(df, test_size=0.25)\n",
        "train.shape\n",
        "#val.shape\n",
        "train.head()"
      ],
      "execution_count": 52,
      "outputs": [
        {
          "output_type": "execute_result",
          "data": {
            "text/html": [
              "<div>\n",
              "<style scoped>\n",
              "    .dataframe tbody tr th:only-of-type {\n",
              "        vertical-align: middle;\n",
              "    }\n",
              "\n",
              "    .dataframe tbody tr th {\n",
              "        vertical-align: top;\n",
              "    }\n",
              "\n",
              "    .dataframe thead th {\n",
              "        text-align: right;\n",
              "    }\n",
              "</style>\n",
              "<table border=\"1\" class=\"dataframe\">\n",
              "  <thead>\n",
              "    <tr style=\"text-align: right;\">\n",
              "      <th></th>\n",
              "      <th>Tokened_Text</th>\n",
              "      <th>Tokened_Summary</th>\n",
              "    </tr>\n",
              "  </thead>\n",
              "  <tbody>\n",
              "    <tr>\n",
              "      <th>124528</th>\n",
              "      <td>[2, 6, 2916, 10, 723, 46, 10, 759, 7968, 6, 11...</td>\n",
              "      <td>[2, 143, 508, 3]</td>\n",
              "    </tr>\n",
              "    <tr>\n",
              "      <th>57429</th>\n",
              "      <td>[2, 6, 101, 401, 685, 159, 1062, 2971, 2184, 1...</td>\n",
              "      <td>[2, 276, 810, 459, 7977, 3]</td>\n",
              "    </tr>\n",
              "    <tr>\n",
              "      <th>56938</th>\n",
              "      <td>[2, 64, 105, 5, 178, 858, 7977, 5, 1627, 741, ...</td>\n",
              "      <td>[2, 5, 143, 261, 3]</td>\n",
              "    </tr>\n",
              "    <tr>\n",
              "      <th>100032</th>\n",
              "      <td>[2, 202, 77, 215, 6366, 7972, 77, 230, 215, 15...</td>\n",
              "      <td>[2, 5174, 3213, 3]</td>\n",
              "    </tr>\n",
              "    <tr>\n",
              "      <th>118550</th>\n",
              "      <td>[2, 6, 215, 64, 200, 993, 7968, 6, 146, 343, 4...</td>\n",
              "      <td>[2, 200, 62, 491, 3]</td>\n",
              "    </tr>\n",
              "  </tbody>\n",
              "</table>\n",
              "</div>"
            ],
            "text/plain": [
              "                                             Tokened_Text              Tokened_Summary\n",
              "124528  [2, 6, 2916, 10, 723, 46, 10, 759, 7968, 6, 11...             [2, 143, 508, 3]\n",
              "57429   [2, 6, 101, 401, 685, 159, 1062, 2971, 2184, 1...  [2, 276, 810, 459, 7977, 3]\n",
              "56938   [2, 64, 105, 5, 178, 858, 7977, 5, 1627, 741, ...          [2, 5, 143, 261, 3]\n",
              "100032  [2, 202, 77, 215, 6366, 7972, 77, 230, 215, 15...           [2, 5174, 3213, 3]\n",
              "118550  [2, 6, 215, 64, 200, 993, 7968, 6, 146, 343, 4...         [2, 200, 62, 491, 3]"
            ]
          },
          "metadata": {
            "tags": []
          },
          "execution_count": 52
        }
      ]
    },
    {
      "cell_type": "code",
      "metadata": {
        "id": "jxOoR6zWTm5o",
        "colab_type": "code",
        "outputId": "f78932f8-d1d9-4f2f-8750-472ab952ecb5",
        "colab": {
          "base_uri": "https://localhost:8080/",
          "height": 34
        }
      },
      "source": [
        "len(train)"
      ],
      "execution_count": 53,
      "outputs": [
        {
          "output_type": "execute_result",
          "data": {
            "text/plain": [
              "128618"
            ]
          },
          "metadata": {
            "tags": []
          },
          "execution_count": 53
        }
      ]
    },
    {
      "cell_type": "code",
      "metadata": {
        "id": "595e0Om0TqK7",
        "colab_type": "code",
        "outputId": "000a0225-31e5-4c7c-eef9-1af2e4a8512a",
        "colab": {
          "base_uri": "https://localhost:8080/",
          "height": 204
        }
      },
      "source": [
        "val.head()"
      ],
      "execution_count": 54,
      "outputs": [
        {
          "output_type": "execute_result",
          "data": {
            "text/html": [
              "<div>\n",
              "<style scoped>\n",
              "    .dataframe tbody tr th:only-of-type {\n",
              "        vertical-align: middle;\n",
              "    }\n",
              "\n",
              "    .dataframe tbody tr th {\n",
              "        vertical-align: top;\n",
              "    }\n",
              "\n",
              "    .dataframe thead th {\n",
              "        text-align: right;\n",
              "    }\n",
              "</style>\n",
              "<table border=\"1\" class=\"dataframe\">\n",
              "  <thead>\n",
              "    <tr style=\"text-align: right;\">\n",
              "      <th></th>\n",
              "      <th>Tokened_Text</th>\n",
              "      <th>Tokened_Summary</th>\n",
              "    </tr>\n",
              "  </thead>\n",
              "  <tbody>\n",
              "    <tr>\n",
              "      <th>164243</th>\n",
              "      <td>[2, 659, 33, 1479, 7972, 1170, 33, 369, 7972, ...</td>\n",
              "      <td>[2, 1170, 30, 659, 3]</td>\n",
              "    </tr>\n",
              "    <tr>\n",
              "      <th>20077</th>\n",
              "      <td>[2, 335, 2590, 5369, 719, 6, 456, 83, 1986, 46...</td>\n",
              "      <td>[2, 1767, 6502, 482, 3]</td>\n",
              "    </tr>\n",
              "    <tr>\n",
              "      <th>2886</th>\n",
              "      <td>[2, 6, 155, 2230, 90, 5698, 4450, 7973, 7953, ...</td>\n",
              "      <td>[2, 192, 143, 382, 46, 174, 3]</td>\n",
              "    </tr>\n",
              "    <tr>\n",
              "      <th>170306</th>\n",
              "      <td>[2, 346, 1447, 746, 163, 1112, 186, 46, 159, 5...</td>\n",
              "      <td>[2, 346, 513, 39, 3]</td>\n",
              "    </tr>\n",
              "    <tr>\n",
              "      <th>74005</th>\n",
              "      <td>[2, 178, 62, 6860, 7968, 324, 2618, 117, 2802,...</td>\n",
              "      <td>[2, 11, 191, 11, 191, 3]</td>\n",
              "    </tr>\n",
              "  </tbody>\n",
              "</table>\n",
              "</div>"
            ],
            "text/plain": [
              "                                             Tokened_Text                 Tokened_Summary\n",
              "164243  [2, 659, 33, 1479, 7972, 1170, 33, 369, 7972, ...           [2, 1170, 30, 659, 3]\n",
              "20077   [2, 335, 2590, 5369, 719, 6, 456, 83, 1986, 46...         [2, 1767, 6502, 482, 3]\n",
              "2886    [2, 6, 155, 2230, 90, 5698, 4450, 7973, 7953, ...  [2, 192, 143, 382, 46, 174, 3]\n",
              "170306  [2, 346, 1447, 746, 163, 1112, 186, 46, 159, 5...            [2, 346, 513, 39, 3]\n",
              "74005   [2, 178, 62, 6860, 7968, 324, 2618, 117, 2802,...        [2, 11, 191, 11, 191, 3]"
            ]
          },
          "metadata": {
            "tags": []
          },
          "execution_count": 54
        }
      ]
    },
    {
      "cell_type": "code",
      "metadata": {
        "id": "r8xG6bLVTr4k",
        "colab_type": "code",
        "outputId": "027746a3-dd4b-4f17-e787-c011e55f086b",
        "colab": {
          "base_uri": "https://localhost:8080/",
          "height": 34
        }
      },
      "source": [
        "len(val)"
      ],
      "execution_count": 55,
      "outputs": [
        {
          "output_type": "execute_result",
          "data": {
            "text/plain": [
              "42873"
            ]
          },
          "metadata": {
            "tags": []
          },
          "execution_count": 55
        }
      ]
    },
    {
      "cell_type": "code",
      "metadata": {
        "id": "a5ofP23KT2wC",
        "colab_type": "code",
        "outputId": "aafc6a24-ffd6-4014-88a8-a93f84374fd6",
        "colab": {
          "base_uri": "https://localhost:8080/",
          "height": 119
        }
      },
      "source": [
        "with open('{}.vocab'.format(prefix), encoding='utf-8') as f:\n",
        "    vocabs = [doc.strip() for doc in f]\n",
        "\n",
        "print('num of vocabs = {}'.format(len(vocabs))) # 2000\n",
        "print(sp_bpe.unk_id())\n",
        "for id in range (4):\n",
        "  print(sp_bpe.id_to_piece(id),sp_bpe.is_control(id))"
      ],
      "execution_count": 56,
      "outputs": [
        {
          "output_type": "stream",
          "text": [
            "num of vocabs = 8000\n",
            "1\n",
            "<pad> True\n",
            "<unk> False\n",
            "<s> True\n",
            "</s> True\n"
          ],
          "name": "stdout"
        }
      ]
    },
    {
      "cell_type": "code",
      "metadata": {
        "id": "fGxxk97JT9Zl",
        "colab_type": "code",
        "outputId": "ea65eeff-3ef5-41fd-9e17-1e5553acf071",
        "colab": {
          "base_uri": "https://localhost:8080/",
          "height": 119
        }
      },
      "source": [
        "x_train=train.iloc[:,0]\n",
        "x_val=val.iloc[:,0] \n",
        "y_train=train.iloc[:,1]\n",
        "y_val=val.iloc[:,1]\n",
        "x_train.head()"
      ],
      "execution_count": 57,
      "outputs": [
        {
          "output_type": "execute_result",
          "data": {
            "text/plain": [
              "124528    [2, 6, 2916, 10, 723, 46, 10, 759, 7968, 6, 11...\n",
              "57429     [2, 6, 101, 401, 685, 159, 1062, 2971, 2184, 1...\n",
              "56938     [2, 64, 105, 5, 178, 858, 7977, 5, 1627, 741, ...\n",
              "100032    [2, 202, 77, 215, 6366, 7972, 77, 230, 215, 15...\n",
              "118550    [2, 6, 215, 64, 200, 993, 7968, 6, 146, 343, 4...\n",
              "Name: Tokened_Text, dtype: object"
            ]
          },
          "metadata": {
            "tags": []
          },
          "execution_count": 57
        }
      ]
    },
    {
      "cell_type": "code",
      "metadata": {
        "id": "LmGT3Tq5U7wa",
        "colab_type": "code",
        "outputId": "14ba8725-5970-4027-c311-837a06cf52b4",
        "colab": {
          "base_uri": "https://localhost:8080/",
          "height": 119
        }
      },
      "source": [
        "from keras.preprocessing.sequence import pad_sequences\n",
        "\n",
        "#padding zero up to maximum length\n",
        "x_train   =   pad_sequences(x_train,  maxlen=60, padding='post')\n",
        "x_val   =   pad_sequences(x_val, maxlen=60, padding='post')\n",
        "#padding zero up to maximum length\n",
        "y_train    =   pad_sequences(y_train,  maxlen=8, padding='post')\n",
        "y_val   =   pad_sequences(x_val, maxlen=8, padding='post')\n",
        "\n",
        "print(x_train[14])"
      ],
      "execution_count": 58,
      "outputs": [
        {
          "output_type": "stream",
          "text": [
            "Using TensorFlow backend.\n"
          ],
          "name": "stderr"
        },
        {
          "output_type": "stream",
          "text": [
            "[   2   39  938   90 5215 1234   30  115  327  183  312 7968   10 2003\n",
            "  105  143   30   49 5553 7304 7972    6 7948   39   49  897 7968  112\n",
            "  787   13 2246   27  331 7968   64   49   10  618 2003   15  179   68\n",
            "  260 1612  581   10  678 3434 7968    6  463    5 2189 7968    3    0\n",
            "    0    0    0    0]\n"
          ],
          "name": "stdout"
        }
      ]
    },
    {
      "cell_type": "code",
      "metadata": {
        "id": "PoCQpbuHVDO3",
        "colab_type": "code",
        "outputId": "26d855e9-aab8-4bd0-8b49-32e4a13ff7e3",
        "colab": {
          "base_uri": "https://localhost:8080/",
          "height": 34
        }
      },
      "source": [
        "#we get total unique text tokens x_train =11788\n",
        "x_voc=0\n",
        "x_tokens=[]\n",
        "for row in x_train:\n",
        "  for tokenx in row:\n",
        "    if tokenx not in x_tokens:\n",
        "        x_tokens.append(tokenx)\n",
        "        #print(token, end=' ')\n",
        "        x_voc+=1\n",
        "\n",
        "x_voc=x_voc+1\n",
        "print(x_voc)\n"
      ],
      "execution_count": 59,
      "outputs": [
        {
          "output_type": "stream",
          "text": [
            "7838\n"
          ],
          "name": "stdout"
        }
      ]
    },
    {
      "cell_type": "code",
      "metadata": {
        "id": "ECE4tCpRVISi",
        "colab_type": "code",
        "outputId": "97f69521-f98f-4b73-cdf7-b89dacce2a9c",
        "colab": {
          "base_uri": "https://localhost:8080/",
          "height": 34
        }
      },
      "source": [
        "x_voc_size=len(sp_bpe)\n",
        "print(x_voc_size)"
      ],
      "execution_count": 60,
      "outputs": [
        {
          "output_type": "stream",
          "text": [
            "8000\n"
          ],
          "name": "stdout"
        }
      ]
    },
    {
      "cell_type": "code",
      "metadata": {
        "id": "TAQE9KTiVOov",
        "colab_type": "code",
        "outputId": "ad4a0564-64ac-4cad-d7bf-ba801a5344c1",
        "colab": {
          "base_uri": "https://localhost:8080/",
          "height": 34
        }
      },
      "source": [
        "#make a comparision between this one and next cell. \n",
        "#we get total unique text tokens y_train =\n",
        "y_voc=0\n",
        "y_tokens=[]\n",
        "\n",
        "for row in y_train:\n",
        "  for tokeny in row:\n",
        "    if tokeny not in y_tokens:\n",
        "      y_tokens.append(tokeny)\n",
        "     \n",
        "      y_voc+=1\n",
        "\n",
        "y_voc=y_voc+1 \n",
        "\n",
        "print(y_voc)"
      ],
      "execution_count": 61,
      "outputs": [
        {
          "output_type": "stream",
          "text": [
            "6081\n"
          ],
          "name": "stdout"
        }
      ]
    },
    {
      "cell_type": "code",
      "metadata": {
        "id": "QLO5_bdPVWJa",
        "colab_type": "code",
        "outputId": "357f5780-2a77-419e-b09a-6044352aa85f",
        "colab": {
          "base_uri": "https://localhost:8080/",
          "height": 34
        }
      },
      "source": [
        "y_train.shape"
      ],
      "execution_count": 62,
      "outputs": [
        {
          "output_type": "execute_result",
          "data": {
            "text/plain": [
              "(128618, 8)"
            ]
          },
          "metadata": {
            "tags": []
          },
          "execution_count": 62
        }
      ]
    },
    {
      "cell_type": "code",
      "metadata": {
        "id": "m2dsujKOVZk5",
        "colab_type": "code",
        "outputId": "942b759e-f855-4735-f691-bf0825e29d4e",
        "colab": {
          "base_uri": "https://localhost:8080/",
          "height": 34
        }
      },
      "source": [
        "x_train.shape"
      ],
      "execution_count": 63,
      "outputs": [
        {
          "output_type": "execute_result",
          "data": {
            "text/plain": [
              "(128618, 60)"
            ]
          },
          "metadata": {
            "tags": []
          },
          "execution_count": 63
        }
      ]
    },
    {
      "cell_type": "code",
      "metadata": {
        "id": "ay5ENBvPV_zY",
        "colab_type": "code",
        "outputId": "563ec088-3bbb-4b4b-8668-584026520960",
        "colab": {
          "base_uri": "https://localhost:8080/",
          "height": 34
        }
      },
      "source": [
        "\n",
        "#we get total unique text tokens y_train =8000 /actually this is the whole voc list size\n",
        "y_voc2=0\n",
        "y_tokens2=[]\n",
        "t = 0\n",
        "for row in y_train:\n",
        "  import numpy as np\n",
        "  t = max(t,np.max(row))\n",
        "  for token in row:\n",
        "    if token not in y_tokens2:\n",
        "      y_tokens2.append(token)\n",
        "      #print(token,end='')\n",
        "      y_voc2+=1\n",
        "\n",
        "y_voc2=y_voc+1 \n",
        "y_voc2 = t+1\n",
        "\n",
        "y_voc2_size=len(sp_bpe2)\n",
        "print(y_voc2_size)\n"
      ],
      "execution_count": 64,
      "outputs": [
        {
          "output_type": "stream",
          "text": [
            "8000\n"
          ],
          "name": "stdout"
        }
      ]
    },
    {
      "cell_type": "code",
      "metadata": {
        "id": "7F-DI66gk1HF",
        "colab_type": "code",
        "colab": {}
      },
      "source": [
        "#import csv\n",
        "\n",
        "#train_csv = train.to_csv (r'/content/drive/My Drive/amazon-fine-food-reviews/train-real.csv', index = None, header=True)\n",
        "#val_csv = val.to_csv (r'/content/drive/My Drive/amazon-fine-food-reviews/val-real.csv', index = None, header=True)\n",
        "\n"
      ],
      "execution_count": 0,
      "outputs": []
    },
    {
      "cell_type": "code",
      "metadata": {
        "id": "8kls5bACF7rX",
        "colab_type": "code",
        "outputId": "d6a642d3-6af7-41a7-ccf8-bf9a039366c4",
        "colab": {
          "base_uri": "https://localhost:8080/",
          "height": 51
        }
      },
      "source": [
        "# i guess the duplate token has too many? i set the vocabulary size to bpe as 8000. May need to change to 15000?\n",
        "print(len(train))\n",
        "print(len(val))\n"
      ],
      "execution_count": 65,
      "outputs": [
        {
          "output_type": "stream",
          "text": [
            "128618\n",
            "42873\n"
          ],
          "name": "stdout"
        }
      ]
    },
    {
      "cell_type": "code",
      "metadata": {
        "id": "RetSUFUCneLG",
        "colab_type": "code",
        "colab": {}
      },
      "source": [
        "#df = pd.read_csv(r'/content/drive/My Drive/amazon-fine-food-reviews/train-real.csv')\n",
        "##Dataset is now stored in a Pandas Dataframe\n",
        "\n",
        "#df_v = pd.read_csv(r'/content/drive/My Drive/amazon-fine-food-reviews/val-real.csv')\n",
        "#len(df_v)"
      ],
      "execution_count": 0,
      "outputs": []
    },
    {
      "cell_type": "code",
      "metadata": {
        "id": "rpSq9KBbWe_1",
        "colab_type": "code",
        "outputId": "c2d47563-4e3e-4560-c44e-aa5958d711e1",
        "colab": {
          "base_uri": "https://localhost:8080/",
          "height": 34
        }
      },
      "source": [
        "import tensorflow as tf\n",
        "\n",
        "#from keras.preprocessing.text import Tokenizer \n",
        "#from nltk.corpus import stopwords   \n",
        "from tensorflow.keras.layers import Input, LSTM, Embedding, Dense, Concatenate, TimeDistributed, Bidirectional\n",
        "from tensorflow.keras.models import Model\n",
        "from tensorflow.keras.callbacks import EarlyStopping\n",
        "import warnings\n",
        "from tensorflow.python.layers.core import Dense\n",
        "from tensorflow.python.ops.rnn_cell_impl import _zero_state_tensors\n",
        "print('TensorFlow Version: {}'.format(tf.__version__))"
      ],
      "execution_count": 66,
      "outputs": [
        {
          "output_type": "stream",
          "text": [
            "TensorFlow Version: 1.15.0\n"
          ],
          "name": "stdout"
        }
      ]
    },
    {
      "cell_type": "code",
      "metadata": {
        "id": "cJiozM0npZtp",
        "colab_type": "code",
        "colab": {}
      },
      "source": [
        "import time\n",
        "from tensorflow import keras\n",
        "import datetime, os\n",
        "\n",
        "#import datetime, os\n",
        "from tensorflow.python.keras.callbacks import TensorBoard\n"
      ],
      "execution_count": 0,
      "outputs": []
    },
    {
      "cell_type": "code",
      "metadata": {
        "id": "5fRkrrY4WkkD",
        "colab_type": "code",
        "outputId": "e543ea15-db5f-45d7-b3b5-d7fa7a64d255",
        "colab": {
          "base_uri": "https://localhost:8080/",
          "height": 819
        }
      },
      "source": [
        "from keras import backend as K\n",
        "from tensorflow.keras.layers import *\n",
        "from attention import *\n",
        "K.clear_session()\n",
        "\n",
        "latent_dim = 300\n",
        "embedding_dim=100  # output vector from embedding layer\n",
        "\n",
        "#encoder\n",
        "\n",
        "max_text_len=60\n",
        "\n",
        "encoder_inputs = Input(shape=(max_text_len,)) \n",
        "encoder_embedding = Embedding(x_voc_size, embedding_dim, trainable=True)(encoder_inputs)\n",
        "\n",
        "\n",
        "#encoder_lstm1\n",
        "encoder_LSTM1=LSTM(latent_dim, return_sequences=True, return_state=True, dropout=0.4, recurrent_dropout=0.4)\n",
        "encoder_output1,state_h1,state_c1=encoder_LSTM1(encoder_embedding)\n",
        "\n",
        "#encoder_lstm2\n",
        "encoder_LSTM2=LSTM(latent_dim, return_sequences=True, return_state=True, dropout=0.4, recurrent_dropout=0.4)\n",
        "encoder_output2,state_h2,state_c2=encoder_LSTM2(encoder_output1)\n",
        "\n",
        "#encoder_lstm3\n",
        "encoder_LSTM3=LSTM(latent_dim, return_sequences=True, return_state=True, dropout=0.4, recurrent_dropout=0.4)\n",
        "encoder_outputs,state_h,state_c=encoder_LSTM3(encoder_output2)\n",
        "\n",
        "# Set up the decoder, using `encoder_states` as initial state.\n",
        "decoder_inputs = Input(shape=(None,))\n",
        "\n",
        "#embedding layer\n",
        "dec_emb_layer = Embedding(y_voc2_size, embedding_dim,trainable=True)\n",
        "dec_emb = dec_emb_layer(decoder_inputs)\n",
        "\n",
        "decoder_lstm = LSTM(latent_dim, return_sequences=True, return_state=True,dropout=0.4,recurrent_dropout=0.2)\n",
        "decoder_outputs,decoder_fwd_state, decoder_back_state = decoder_lstm(dec_emb,initial_state=[state_h, state_c])\n",
        "\n",
        "#Attention layer\n",
        "attn_layer = AttentionLayer(name='attention_layer')\n",
        "attn_out, attn_states = attn_layer([encoder_outputs, decoder_outputs])\n",
        "\n",
        "# Concat attention input and decoder LSTM output\n",
        "decoder_concat_input = Concatenate(axis=-1, name='concat_layer')([decoder_outputs, attn_out])\n",
        "\n",
        "#dense layer\n",
        "decoder_dense =  TimeDistributed(Dense(y_voc2_size, activation='softmax'))\n",
        "decoder_outputs = decoder_dense(decoder_concat_input)\n",
        "\n",
        "# Define the model \n",
        "model = Model([encoder_inputs, decoder_inputs], decoder_outputs)\n",
        "\n",
        "model.summary()"
      ],
      "execution_count": 69,
      "outputs": [
        {
          "output_type": "stream",
          "text": [
            "WARNING:tensorflow:From /usr/local/lib/python3.6/dist-packages/tensorflow_core/python/keras/initializers.py:119: calling RandomUniform.__init__ (from tensorflow.python.ops.init_ops) with dtype is deprecated and will be removed in a future version.\n",
            "Instructions for updating:\n",
            "Call initializer instance with the dtype argument instead of passing it to the constructor\n"
          ],
          "name": "stdout"
        },
        {
          "output_type": "stream",
          "text": [
            "WARNING:tensorflow:From /usr/local/lib/python3.6/dist-packages/tensorflow_core/python/keras/initializers.py:119: calling RandomUniform.__init__ (from tensorflow.python.ops.init_ops) with dtype is deprecated and will be removed in a future version.\n",
            "Instructions for updating:\n",
            "Call initializer instance with the dtype argument instead of passing it to the constructor\n"
          ],
          "name": "stderr"
        },
        {
          "output_type": "stream",
          "text": [
            "WARNING:tensorflow:From /usr/local/lib/python3.6/dist-packages/tensorflow_core/python/ops/resource_variable_ops.py:1630: calling BaseResourceVariable.__init__ (from tensorflow.python.ops.resource_variable_ops) with constraint is deprecated and will be removed in a future version.\n",
            "Instructions for updating:\n",
            "If using Keras pass *_constraint arguments to layers.\n"
          ],
          "name": "stdout"
        },
        {
          "output_type": "stream",
          "text": [
            "WARNING:tensorflow:From /usr/local/lib/python3.6/dist-packages/tensorflow_core/python/ops/resource_variable_ops.py:1630: calling BaseResourceVariable.__init__ (from tensorflow.python.ops.resource_variable_ops) with constraint is deprecated and will be removed in a future version.\n",
            "Instructions for updating:\n",
            "If using Keras pass *_constraint arguments to layers.\n"
          ],
          "name": "stderr"
        },
        {
          "output_type": "stream",
          "text": [
            "Model: \"model\"\n",
            "__________________________________________________________________________________________________\n",
            "Layer (type)                    Output Shape         Param #     Connected to                     \n",
            "==================================================================================================\n",
            "input_1 (InputLayer)            [(None, 60)]         0                                            \n",
            "__________________________________________________________________________________________________\n",
            "embedding (Embedding)           (None, 60, 100)      800000      input_1[0][0]                    \n",
            "__________________________________________________________________________________________________\n",
            "lstm (LSTM)                     [(None, 60, 300), (N 481200      embedding[0][0]                  \n",
            "__________________________________________________________________________________________________\n",
            "input_2 (InputLayer)            [(None, None)]       0                                            \n",
            "__________________________________________________________________________________________________\n",
            "lstm_1 (LSTM)                   [(None, 60, 300), (N 721200      lstm[0][0]                       \n",
            "__________________________________________________________________________________________________\n",
            "embedding_1 (Embedding)         (None, None, 100)    800000      input_2[0][0]                    \n",
            "__________________________________________________________________________________________________\n",
            "lstm_2 (LSTM)                   [(None, 60, 300), (N 721200      lstm_1[0][0]                     \n",
            "__________________________________________________________________________________________________\n",
            "lstm_3 (LSTM)                   [(None, None, 300),  481200      embedding_1[0][0]                \n",
            "                                                                 lstm_2[0][1]                     \n",
            "                                                                 lstm_2[0][2]                     \n",
            "__________________________________________________________________________________________________\n",
            "attention_layer (AttentionLayer ((None, None, 300),  180300      lstm_2[0][0]                     \n",
            "                                                                 lstm_3[0][0]                     \n",
            "__________________________________________________________________________________________________\n",
            "concat_layer (Concatenate)      (None, None, 600)    0           lstm_3[0][0]                     \n",
            "                                                                 attention_layer[0][0]            \n",
            "__________________________________________________________________________________________________\n",
            "time_distributed (TimeDistribut (None, None, 8000)   4808000     concat_layer[0][0]               \n",
            "==================================================================================================\n",
            "Total params: 8,993,100\n",
            "Trainable params: 8,993,100\n",
            "Non-trainable params: 0\n",
            "__________________________________________________________________________________________________\n"
          ],
          "name": "stdout"
        }
      ]
    },
    {
      "cell_type": "code",
      "metadata": {
        "id": "C3UzLkwsXAYB",
        "colab_type": "code",
        "colab": {}
      },
      "source": [
        "#Can I use TensorBoard with Google Colab?\n",
        "#Tensorboard: ValueError: Duplicate plugins for name projector #22676\n",
        "#https://github.com/pytorch/pytorch/issues/22676\n",
        "\n",
        "logs_base_dir = \"./logs\"\n",
        "logdir = os.path.join(logs_base_dir, datetime.datetime.now().strftime(\"%Y%m%d-%H%M%S\"))\n",
        "tensorboard_callback = tf.keras.callbacks.TensorBoard(logdir)\n",
        "\n",
        "model.compile(optimizer='rmsprop', loss='sparse_categorical_crossentropy')\n",
        "es = EarlyStopping(monitor='val_loss', mode='min', verbose=1,patience=4)"
      ],
      "execution_count": 0,
      "outputs": []
    },
    {
      "cell_type": "code",
      "metadata": {
        "id": "IUpspmzHXFqx",
        "colab_type": "code",
        "outputId": "b0003aca-3666-4cd2-f00b-71ae0adb3fb0",
        "colab": {
          "base_uri": "https://localhost:8080/",
          "height": 190
        }
      },
      "source": [
        "history=model.fit([x_train,y_train[:,:-1]], y_train.reshape(y_train.shape[0],y_train.shape[1], 1)[:,1:] ,epochs=2,callbacks=[es, tensorboard_callback],batch_size=15, validation_data=([x_val,y_val[:,:-1]], y_val.reshape(y_val.shape[0],y_val.shape[1], 1)[:,1:]))"
      ],
      "execution_count": 0,
      "outputs": [
        {
          "output_type": "stream",
          "text": [
            "WARNING:tensorflow:From /usr/local/lib/python3.6/dist-packages/tensorflow_core/python/ops/math_grad.py:1424: where (from tensorflow.python.ops.array_ops) is deprecated and will be removed in a future version.\n",
            "Instructions for updating:\n",
            "Use tf.where in 2.0, which has the same broadcast rule as np.where\n"
          ],
          "name": "stdout"
        },
        {
          "output_type": "stream",
          "text": [
            "WARNING:tensorflow:From /usr/local/lib/python3.6/dist-packages/tensorflow_core/python/ops/math_grad.py:1424: where (from tensorflow.python.ops.array_ops) is deprecated and will be removed in a future version.\n",
            "Instructions for updating:\n",
            "Use tf.where in 2.0, which has the same broadcast rule as np.where\n"
          ],
          "name": "stderr"
        },
        {
          "output_type": "stream",
          "text": [
            "Train on 128618 samples, validate on 42873 samples\n",
            "Epoch 1/2\n",
            "  9045/128618 [=>............................] - ETA: 4:23:34 - loss: 2.9757"
          ],
          "name": "stdout"
        }
      ]
    },
    {
      "cell_type": "code",
      "metadata": {
        "id": "CJHhz0ma_w38",
        "colab_type": "code",
        "outputId": "5127462d-27fd-4d50-a5e9-6dc6117514a5",
        "colab": {
          "base_uri": "https://localhost:8080/",
          "height": 136
        }
      },
      "source": [
        "mytest = sp_bpe.encode_as_ids('love this bbq sauce... can\\'t wait for this to be more available, i buy it up if i see a few at the local stores.')\n",
        "newtest= sp_bpe.encode_as_ids('and I feel like a new man with this bag I looooove it !!')\n",
        "print(mytest)\n",
        "test = pad_sequences([newtest],  maxlen=70, padding='post')\n",
        "print(test)\n",
        "secNewTest=sp_bpe.DecodeIds(newtest)\n",
        "#?? means UNK\n",
        "print(secNewTest)"
      ],
      "execution_count": 0,
      "outputs": [
        {
          "output_type": "stream",
          "text": [
            "[2, 215, 64, 2612, 779, 305, 144, 7973, 7949, 1602, 62, 64, 32, 61, 221, 1089, 7972, 6, 260, 39, 253, 203, 6, 374, 5, 581, 167, 10, 771, 917, 7968, 3]\n",
            "[[   2   30 7947    1  682  127    5  607 1134   90   64  298 7947    1\n",
            "   101 5749   43   39 7947  400    3    0    0    0    0    0    0    0\n",
            "     0    0    0    0    0    0    0    0    0    0    0    0    0    0\n",
            "     0    0    0    0    0    0    0    0    0    0    0    0    0    0\n",
            "     0    0    0    0    0    0    0    0    0    0    0    0    0    0]]\n",
            "and  ⁇  feel like a new man with this bag  ⁇  looooove it !!\n"
          ],
          "name": "stdout"
        }
      ]
    },
    {
      "cell_type": "code",
      "metadata": {
        "id": "v1jjoLBvtknS",
        "colab_type": "code",
        "colab": {}
      },
      "source": [
        "\n",
        "# Encode the input sequence to get the feature vector\n",
        "encoder_model = Model(inputs=encoder_inputs,outputs=[encoder_outputs, state_h, state_c])\n",
        "\n",
        "# Decoder setup\n",
        "# Below tensors will hold the states of the previous time step\n",
        "decoder_state_input_h = Input(shape=(latent_dim,))\n",
        "decoder_state_input_c = Input(shape=(latent_dim,))\n",
        "decoder_hidden_state_input = Input(shape=(max_text_len,latent_dim))\n",
        "\n",
        "# Get the embeddings of the decoder sequence\n",
        "dec_emb2= dec_emb_layer(decoder_inputs) \n",
        "# To predict the next word in the sequence, set the initial states to the states from the previous time step\n",
        "decoder_outputs2, state_h2, state_c2 = decoder_lstm(dec_emb2, initial_state=[decoder_state_input_h, decoder_state_input_c])\n",
        "\n",
        "#attention inference\n",
        "attn_out_inf, attn_states_inf = attn_layer([decoder_hidden_state_input, decoder_outputs2])\n",
        "decoder_inf_concat = Concatenate(axis=-1, name='concat')([decoder_outputs2, attn_out_inf])\n",
        "\n",
        "# A dense softmax layer to generate prob dist. over the target vocabulary\n",
        "decoder_outputs2 = decoder_dense(decoder_inf_concat) \n",
        "\n",
        "# Final decoder model\n",
        "decoder_model = Model(\n",
        "    [decoder_inputs] + [decoder_hidden_state_input,decoder_state_input_h, decoder_state_input_c],\n",
        "    [decoder_outputs2] + [state_h2, state_c2])\n",
        "\n",
        "max_summary_len = 70\n",
        "def decode_sequence(input_seq):\n",
        "    # Encode the input as state vectors.\n",
        "    e_out, e_h, e_c = encoder_model.predict(input_seq)\n",
        "\n",
        "    # Generate empty target sequence of length 1.\n",
        "    target_seq = np.zeros((1,1))\n",
        "    \n",
        "    # Populate the first word of target sequence with the start word.\n",
        "    target_seq[0, 0] = 2 #target_word_index['sostok']\n",
        "\n",
        "    stop_condition = False\n",
        "    decoded_sentence = ''\n",
        "    while not stop_condition:\n",
        "      \n",
        "        output_tokens, h, c = decoder_model.predict([target_seq] + [e_out, e_h, e_c])\n",
        "\n",
        "        # Sample a token\n",
        "        sampled_token_index = int(np.argmax(output_tokens[0, -1, :]))\n",
        "        sampled_token = sp_bpe.DecodeIds([sampled_token_index]) #reverse_target_word_index[sampled_token_index]\n",
        "        \n",
        "        if(sampled_token!=3):#'eostok'):\n",
        "            decoded_sentence += ' '+sampled_token\n",
        "\n",
        "        # Exit condition: either hit max length or find stop word.\n",
        "        if (sampled_token_index == 3 or sampled_token_index == 0 or len(decoded_sentence.split()) >= (max_summary_len-1)):\n",
        "            stop_condition = True\n",
        "\n",
        "        # Update the target sequence (of length 1).\n",
        "        target_seq = np.zeros((1,1))\n",
        "        target_seq[0, 0] = sampled_token_index\n",
        "\n",
        "        # Update internal states\n",
        "        e_h, e_c = h, c\n",
        "\n",
        "    return decoded_sentence\n",
        "  \n",
        "#decode_sequence(test)"
      ],
      "execution_count": 0,
      "outputs": []
    },
    {
      "cell_type": "code",
      "metadata": {
        "id": "YoB3qfYmnARZ",
        "colab_type": "code",
        "colab": {}
      },
      "source": [
        "#define the functions to convert an integer sequence to a word sequence for summary as well as the reviews:\n",
        "\n",
        "def seq2summary(input_seq):\n",
        "    newString=''\n",
        "    for i in input_seq:\n",
        "        if((i!=0 and i!=target_seq[2]) and i!=target_seq[3]):\n",
        "            newString=newString+sp_bpe.DecodeIds[i]+' '\n",
        "    return newString\n",
        "\n",
        "def seq2text(input_seq):\n",
        "    newString=''\n",
        "    for i in input_seq:\n",
        "        if(i!=0):\n",
        "            newString=newString+sp_bpe2.DecodeIds[i]+' '\n",
        "    return newString"
      ],
      "execution_count": 0,
      "outputs": []
    },
    {
      "cell_type": "code",
      "metadata": {
        "id": "sgjoqA8hk6x8",
        "colab_type": "code",
        "outputId": "d63ed8be-347d-4cf3-9470-0be5e656b6d0",
        "colab": {
          "base_uri": "https://localhost:8080/",
          "height": 85
        }
      },
      "source": [
        "!pip install rouge"
      ],
      "execution_count": 0,
      "outputs": [
        {
          "output_type": "stream",
          "text": [
            "Collecting rouge\n",
            "  Downloading https://files.pythonhosted.org/packages/63/ac/b93411318529980ab7f41e59ed64ec3ffed08ead32389e29eb78585dd55d/rouge-0.3.2-py3-none-any.whl\n",
            "Installing collected packages: rouge\n",
            "Successfully installed rouge-0.3.2\n"
          ],
          "name": "stdout"
        }
      ]
    },
    {
      "cell_type": "code",
      "metadata": {
        "id": "jacAOdpUe5Ed",
        "colab_type": "code",
        "outputId": "4be96c9f-6be0-46bf-f367-6bfca549f9f0",
        "colab": {
          "base_uri": "https://localhost:8080/",
          "height": 54
        }
      },
      "source": [
        "#test some examples\n",
        "from rouge import Rouge \n",
        "\n",
        "hypothesis = \"the #### transcript is a written version of each day 's cnn student news program use this transcript to help students with reading comprehension and vocabulary use the weekly newsquiz to test your knowledge of storie s you     saw on cnn student news\"\n",
        "\n",
        "reference = \"this page includes the show transcript use the transcript to help students with reading comprehension and vocabulary at the bottom of the page , comment for a chance to be mentioned on cnn student news . you must be a teac    her or a student age # # or older to request a mention on the cnn student news roll call . the weekly newsquiz tests     students ' knowledge of even ts in the news\"\n",
        "\n",
        "rouge = Rouge()\n",
        "scores = rouge.get_scores(hypothesis, reference)\n",
        "print(scores)"
      ],
      "execution_count": 0,
      "outputs": [
        {
          "output_type": "stream",
          "text": [
            "[{'rouge-1': {'f': 0.5238095189484127, 'p': 0.6285714285714286, 'r': 0.4489795918367347}, 'rouge-2': {'f': 0.2727272680991736, 'p': 0.375, 'r': 0.21428571428571427}, 'rouge-l': {'f': 0.4517704517703128, 'p': 0.5714285714285714, 'r': 0.40816326530612246}}]\n"
          ],
          "name": "stdout"
        }
      ]
    },
    {
      "cell_type": "code",
      "metadata": {
        "id": "jIWZoaEUXpqT",
        "colab_type": "code",
        "outputId": "1c72e2d3-7457-432a-e4db-5b0c8b4cbbc2",
        "colab": {
          "base_uri": "https://localhost:8080/",
          "height": 1000
        }
      },
      "source": [
        "for i in range(0,150):\n",
        "    print(\"Review:\",sp_bpe2.DecodeIds(x_train[i].tolist()))\n",
        "    print(\"Original summary:\",sp_bpe.DecodeIds(y_train[i].tolist()))\n",
        "    print(\"Predicted summary:\", decode_sequence(x_train[i].reshape(1,max_text_len)))\n",
        " \n",
        "    #ref. https://pypi.org/project/rouge/\n",
        "    rouge=Rouge()\n",
        "    scores = rouge.get_scores(decode_sequence(x_train[i].reshape(1,max_text_len)),sp_bpe.DecodeIds(y_train[i].tolist()),avg=True)\n",
        "    print(scores)\n",
        "  \n",
        "    print(\"\\n\")"
      ],
      "execution_count": 0,
      "outputs": [
        {
          "output_type": "stream",
          "text": [
            "Review: i gave this as a gift to a man who had everything that he could possibly want. he loved it and i found that he enjoyed the mix very well. thank you for the presentation of this item as well as for the very satisfying results.\n",
            "Original summary: angel\n",
            "Predicted summary:  great product \n",
            "\n",
            "\n",
            "Review: this is by far my favorite coffee. it goes through my coffee maker without any problems. the crema foam adds a nice touch. this is the only coffee i buy now. it is nice to get this coffee in the usa.\n",
            "Original summary: my favorite coffee!\n",
            "Predicted summary:  great coffee \n",
            "\n",
            "\n",
            "Review: simple is good. three ingredients. tart and tasty.<br /><br />completely meritorious and not the least bit meretricious.<br /><br />i give them as gifts to dear friends.\n",
            "Original summary: delicious and nutritious\n",
            "Predicted summary:  great product \n",
            "\n",
            "\n",
            "Review: yesterday my order arrived bur there is on mistake, because nespresso capsules arrived only 1 pack with 10 capsules and i bought 5 packs with 10 capsules. plese help me because i'm going to brazil next saturday and i need the coffee - regards\n",
            "Original summary: nespresso not arrived\n",
            "Predicted summary:  great coffee \n",
            "\n",
            "\n",
            "Review: i love these muffins!! we're hooked on them in our house! what's the hold up? when will they be back in stock?\n",
            "Original summary: desperate!!\n",
            "Predicted summary:  great stuff ! \n",
            "\n",
            "\n",
            "Review: i love this coffee...even better when i found out it is from new orleans...this is the superbowl of beverages.\n",
            "Original summary: great tasting coffee\n",
            "Predicted summary:  great coffee \n",
            "\n",
            "\n",
            "Review: i absolutely love this tea. it doesn't get bitter if you leave the teabag in for a long time. it has full flavors. the tea does not dissapoint! i will continue to buy this brand of tea.\n",
            "Original summary: great tea\n",
            "Predicted summary:  great tea \n",
            "\n",
            "\n",
            "Review: i don't like my jerky too tender so this is right for me, except for one problem: too salty. i can barely taste the meat's flavor for all that salt. it's like eating salt with meat flavor.\n",
            "Original summary: whoa saltie!!\n",
            "Predicted summary:  good stuff \n",
            "\n",
            "\n",
            "Review: my dogs love these bones, i give them a new one every saturday and they will chew on these for a whole week or longer. they love them :).\n",
            "Original summary: bonez!\n",
            "Predicted summary:  great treat \n",
            "\n",
            "\n",
            "Review: i like this product but amazon's delivery required about ten days. i ran out of coffee waiting for it and had to purchase more locally. amazon's pricing was therefore no benefit.\n",
            "Original summary: good coffee but poor delivery\n",
            "Predicted summary:  good coffee \n",
            "\n",
            "\n",
            "Review: caffeine is the main reason i drink coffee, personally. this jet fuel tastes good and gives you the wake up call you need some days. recommended by me....\n",
            "Original summary: wake up!!!!\n",
            "Predicted summary:  great coffee \n",
            "\n",
            "\n",
            "Review: pernigotti cocoa, is one of the best type of cocoa for hot chocolate and or baking. much better than the chemicals one buys marketed as cocoa here in the united states.\n",
            "Original summary: excellent italian cocoa\n",
            "Predicted summary:  best hot chocolate ever \n",
            "\n",
            "\n",
            "Review: i love all the dolce gusto milky drinks and this one is no exception. good chocolate taste with just the right amount of milky foam.\n",
            "Original summary: excellent taste\n",
            "Predicted summary:  great product \n",
            "\n",
            "\n",
            "Review: great product. does not completely get rid of hot flashes and night sweats, but seriously reduces their number and intensity. i tried everything else and this is the only thing that made any difference. i now get reasonable sleep at night.\n",
            "Original summary: sage tea\n",
            "Predicted summary:  great product \n",
            "\n",
            "\n",
            "Review: these nutrition-packed bars are delicious and i highly recommend them for an energy boost. one slight drawback is that in the heat/summer, they tend to become quite soft and mushy and can be a mess to open and eat, especially if you are carrying one with you.\n",
            "Original summary: packed with nutrition\n",
            "Predicted summary:  yummy ! \n",
            "\n",
            "\n",
            "Review: my son is a fussy eater, especially with new tastes. but he like this, and will eat two jars at a time with no fuss.<br />he rejected chicken and stars, and was ok with turkey and vegetable too.<br />but by far this has been the best.\n",
            "Original summary: my fussy son likes it\n",
            "Predicted summary:  great product \n",
            "\n",
            "\n",
            "Review: i am sure the product will be great.<br />however, i will not buy from this vendor again.<br />i contacted them 30 minutes after the purchase in regards to shipping and they ignored me. the next email i received was after the product had shipped.\n",
            "Original summary: questionable vendor\n",
            "Predicted summary:  great product \n",
            "\n",
            "\n",
            "Review: the product was fine, but the cost of shipping was more than the cost<br />of the tea. won't make that mistake again.\n",
            "Original summary: shipping charges\n",
            "Predicted summary:  not that good \n",
            "\n",
            "\n",
            "Review: i was sad that stores where i live stopped carrying this product, but it was great to find it on amazon. this tea has just a hint of chocolate so it is great if you are trying to watch you calories, and makes a great substitute for hot chocolate!\n",
            "Original summary: great tea!\n",
            "Predicted summary:  great tasting tea \n",
            "\n",
            "\n",
            "Review: got tired of finding tablets on floor, smart mutt.<br />so far no problem with this liquid he eats all his food.<br />we will see how it works on his joints.\n",
            "Original summary: truckhunter\n",
            "Predicted summary:  great product \n",
            "\n",
            "\n",
            "Review: this is a real good product.i love these chips and so does my customers can't go wrong wit these the best\n",
            "Original summary: a good buy\n",
            "Predicted summary:  great product \n",
            "\n",
            "\n",
            "Review: a unique and different addition to your kitchen. we have tried it with chicken and salmon and think it's delicious! we enjoy the whole line of spices and blends from urban accents\n",
            "Original summary: taste of provence\n",
            "Predicted summary:  delicious ! \n",
            "\n",
            "\n",
            "Review: 8 oz. is a big package. smells great. baking up a bunch of lavender white chocolate scones for the freezer. tastes wonderful!\n",
            "Original summary: aromatic!\n",
            "Predicted summary:  great product ! \n",
            "\n",
            "\n",
            "Review: i have been very pleased with choice organic jasmine green tea and i especially like the discounted price through amazon.com.\n",
            "Original summary: delicious tea\n",
            "Predicted summary:  great tea \n",
            "\n",
            "\n",
            "Review: good tea - fast delivery.<br /><br />davidson's tea bulk, herb pure org hibiscus, 16-ounce bag\n",
            "Original summary: good tea\n",
            "Predicted summary:  great tea \n",
            "\n",
            "\n",
            "Review: this is a wonderful cup of coffee. i usually drink my favorite full-bodied blend in the am, but i have a cup of this as a follow up, to get some great flavor but less caffeine. love it!\n",
            "Original summary: excellent\n",
            "Predicted summary:  great coffee \n",
            "\n",
            "\n",
            "Review: the taste is not great, but it's bearable. i could not get used to the smell, the unfinished box is still sitting in my drawer and i've no plans to stock up in future.\n",
            "Original summary: fenugreek tea\n",
            "Predicted summary:  not that good \n",
            "\n",
            "\n",
            "Review: if you like lemons you will love this marmalade. shreds of lemon rind throughout. very hard to find and i was so happy when i found a source on amazon.\n",
            "Original summary: love lemons!\n",
            "Predicted summary:  great product \n",
            "\n",
            "\n",
            "Review: tully's coffee french roast coffee is yummy! it tastes bold and we have even used it to make iced coffee.\n",
            "Original summary: good for keurig\n",
            "Predicted summary:  great coffee \n",
            "\n",
            "\n",
            "Review: this coffee is a little strong for me, but with a little bit of sugar, milk and/or creamer it's perfect. i have a cup of this almost every morning!\n",
            "Original summary: decent...\n",
            "Predicted summary:  great coffee \n",
            "\n",
            "\n",
            "Review: these are very cute! the fork is not full size, but it begins not to matter as you enjoy the eyeball itself! very tasty!\n",
            "Original summary: yummy!\n",
            "Predicted summary:  yummy ! \n",
            "\n",
            "\n",
            "Review: easily the best flavor, spice it up with extra cayenne pepper! you can buy it much cheaper at wal mart though!\n",
            "Original summary: best ramen ever!\n",
            "Predicted summary:  great stuff ! \n",
            "\n",
            "\n",
            "Review: 1. effective as a 5-hour energy<br />2. cheap<br />3. tastes like medicine<br />4. lightning bolts printed on the bottle for added energy<br />5. made in the usa<br /><br />i love lightning\n",
            "Original summary: lightning\n",
            "Predicted summary:  great product \n",
            "\n",
            "\n",
            "Review: i don't really care for plain almonds and find the salted kind is usually too salty. these are perfect! i too first bought them at a store but now can't find them anywhere.\n",
            "Original summary: yum!\n",
            "Predicted summary:  yummy ! \n",
            "\n",
            "\n",
            "Review: since starting wellness wet food, not only does my cat love it, but certain problems she has had cleared up - throwing up, and chronic watery eyes have disappeared. one thing - she gets finicky about eating it when it's cold. at room temp she devours it!\n",
            "Original summary: she loves it\n",
            "Predicted summary:  my cats love it ! \n",
            "\n",
            "\n",
            "Review: i wish these were cheaper so i don't order them as much as i would but they do taste good and is a unique combination of flavors. baby loved it!\n",
            "Original summary: taste good but pricey\n",
            "Predicted summary:  great product ! \n",
            "\n",
            "\n",
            "Review: i had not ordered from your store before and was not sure but am very pleased..i am almost ready to order again..\n",
            "Original summary: delicious nuts\n",
            "Predicted summary:  not a good \n",
            "\n",
            "\n",
            "Review: after being a life long wilton user of colorings, i have switched. these are the only colors i will use now. the flip top lids are amazing and the colors are vivid and beautiful!\n",
            "Original summary: awesome colors!\n",
            "Predicted summary:  great product ! \n",
            "\n",
            "\n",
            "Review: it's not easy to find a good flavored decaf coffee in the stores in my area. this one is reasonabley priced and ships quickly.\n",
            "Original summary: good flavor\n",
            "Predicted summary:  great coffee \n",
            "\n",
            "\n",
            "Review: i like these bars, but would rank them second to the think thin peanut butter variety. those are great. these are very good. both offer up a good amount of protein for people who need more in their diet, such as vegetarians.\n",
            "Original summary: very tasty\n",
            "Predicted summary:  great snack \n",
            "\n",
            "\n",
            "Review: a justifiably award winning olive oil. clean clean tasty wow. i did an olive oil tasting at my house and this was a consistent favorite. buy it!\n",
            "Original summary: the best\n",
            "Predicted summary:  great product \n",
            "\n",
            "\n",
            "Review: excellant coffee. i can't believe it is so easy to get exactly what i like. excellant service.\n",
            "Original summary: coffee\n",
            "Predicted summary:  great coffee \n",
            "\n",
            "\n",
            "Review: i'm on no wheat, dairy or sugar diet restrictions, and this is my treat that i really look forward to. (sometimes every day!) thank you nana's! and the price is great from amazon!\n",
            "Original summary: i love these cookies!\n",
            "Predicted summary:  great product ! \n",
            "\n",
            "\n",
            "Review: this is the first time i tried this flavor. it's bold and strong. the check out process was very easy and recieved my package in a few days. i will def be ordering this again.\n",
            "Original summary: good taste and bold\n",
            "Predicted summary:  great coffee \n",
            "\n",
            "\n",
            "Review: i've been drinking camerons for 4 years now. i absolutely love this coffee! i only buy whole bean and camerons coffee is smooth and not bitter.\n",
            "Original summary: love this coffee!!!!!!!!!\n",
            "Predicted summary:  great coffee \n",
            "\n",
            "\n",
            "Review: this jello is easy to make and absolutely delicious. my daughter has been asking for jello, but i did not want to make the stuff with aspartame and red ⁇ 40. not only is it delicious, but it is high in vitamin c. and fiber and gluten free!\n",
            "Original summary: wonderful\n",
            "Predicted summary:  delicious ! \n",
            "\n",
            "\n",
            "Review: my chihuahua is very picky. most dog food she doesn't like, or will like for a week then get bored of it.<br /><br />we are now into our second bag of this stuff and she still enthusiastically goes for her bowl when we feed her.\n",
            "Original summary: good dog food\n",
            "Predicted summary:  dog loves them \n",
            "\n",
            "\n",
            "Review: these came perfectly packaged and are beautiful. but are waaayyy too expensive. i thought i would get much more than i did for the price.\n",
            "Original summary: beautiful but $$$$\n",
            "Predicted summary:  great product \n",
            "\n",
            "\n",
            "Review: the 4 stars only because it did not agree with my toy poodle. she loves this but it gives her gas so we had to discontinue it. was pleased with the quality of it and the good ingredients. it is a great product.\n",
            "Original summary: dog food\n",
            "Predicted summary:  great product \n",
            "\n",
            "\n",
            "Review: i bought the soda maker and the energy mix it's just like red bull but a little sweeter it saved me money instead of buying red bull every day i just made it. it was great.\n",
            "Original summary: i love it\n",
            "Predicted summary:  great product \n",
            "\n",
            "\n",
            "Review: items were given as gifts as well as one for myself. wonderful except the cheese was a little thin - the bar appears to be thicker. but tasted wonderful, and was well received and appreciated by those who received them as gifts.\n",
            "Original summary: yummerz!\n",
            "Predicted summary:  great product \n",
            "\n",
            "\n",
            "Review: best sugar cookie flavor! crispy crunchy vanilla yum. so delicious. addicting! i will definitely buy this flavor again. i also love the choco chewy bars.\n",
            "Original summary: deliciously addicting\n",
            "Predicted summary:  yummy ! \n",
            "\n",
            "\n",
            "Review: my cat has never turned up his nose at this product. he always has his choice at meal time and he eats both the chicken and this product without fail.\n",
            "Original summary: for the cat\n",
            "Predicted summary:  cat loves it \n",
            "\n",
            "\n",
            "Review: my 4 dogs all had allergies and are just fine now that i switched to wellness.. the fush one smell abit but .. they still love it ..either the dried orthe canned r terrific flavors..with nooo grani!\n",
            "Original summary: great food\n",
            "Predicted summary:  great product \n",
            "\n",
            "\n",
            "Review: out of the four blends of starbucks coffee i have purchased and tried, this is by far the worst. super bitter with a complementary disgusting after taste.\n",
            "Original summary: nasty\n",
            "Predicted summary:  not a good cup \n",
            "\n",
            "\n",
            "Review: this is a truly enjoyable tea. it is hard to over steep and produces a very flavorful cup. it is almost never bitter. very enjoyable for a loose tea. a recommended buy.\n",
            "Original summary: great tea\n",
            "Predicted summary:  great tea \n",
            "\n",
            "\n",
            "Review: not a lot to say here -- simply a very satisfying cracker. the best i have ever tasted. very crunchy without being hard on the teeth, goes great with anything (cheese, peanut butter, etc.). expensive, but well worth the price.\n",
            "Original summary: very satisfying\n",
            "Predicted summary:  great product \n",
            "\n",
            "\n",
            "Review: great training aid. very easy to use. my puppy will follow this lickety stik anywhere! after a while, just shaking the container gets her running to me.\n",
            "Original summary: dog loves it!!\n",
            "Predicted summary:  great product ! \n",
            "\n",
            "\n",
            "Review: gift for daughter, she was in \"love\" with the coffee. will be buying this item again. i will be letting other know about the great deal with this.\n",
            "Original summary: great flavors\n",
            "Predicted summary:  great coffee \n",
            "\n",
            "\n",
            "Review: these are the best snack food ever! spicy and healthy. the 100-calorie packs are a blessing 'cause i could gorge on them. the only drawback is they make your fingers messy, but that's a small price to pay.\n",
            "Original summary: delicious and addictive!\n",
            "Predicted summary:  great snack ! \n",
            "\n",
            "\n",
            "Review: these cookies are just wonderful!!! the chocolate is deep, dark, rich and melts very nicely in your mouth. i would say that it is a bittersweet chocolate and very finely made. these cookies give the chocolate lover a satisfying chocolate experience. do not hesitate to buy them!\n",
            "Original summary: love these cookies!\n",
            "Predicted summary:  yummy cookies ! \n",
            "\n",
            "\n",
            "Review: clearly advertised for kids, this product is  ⁇ 60 ⁇  sugar and saturated fat.<br />it also includes partially hydrogenated oils.<br />perhaps it should come with a children's tatoo that says \"i will be diabetic some day\".\n",
            "Original summary: poison for kids\n",
            "Predicted summary:  great product \n",
            "\n",
            "\n",
            "Review: i would eat this cereal even if it wasn't good for you. great combination of almonds and vanilla flavor.\n",
            "Original summary: best cereal ever\n",
            "Predicted summary:  great product \n",
            "\n",
            "\n",
            "Review: i purchased these in preparation for a visit from my niece who is gluten intolerant. wow, was i surprised! these are really crunchy and delicious! i would definitely buy them again for anyone. it's a great product.\n",
            "Original summary: yummy\n",
            "Predicted summary:  yummy ! \n",
            "\n",
            "\n",
            "Review: i love the convenience of a bottle but the content tastes like plastic. it might do more harm than good if the bottle has bpa in it.\n",
            "Original summary: tastes like plastic\n",
            "Predicted summary:  great product \n",
            "\n",
            "\n",
            "Review: these are delicious, low calorie, you can read all the ingredients, they're cheap compared to similar products and they show up on time. what more can be said?\n",
            "Original summary: win win\n",
            "Predicted summary:  delicious \n",
            "\n",
            "\n",
            "Review: works in k cup with no problem. good value. almost gave up on k cups due to cost. now with this alternative will keep using it.\n",
            "Original summary: excellent coffee\n",
            "Predicted summary:  great coffee \n",
            "\n",
            "\n",
            "Review: mapleine has been used in my family to make a certain dessert since i was a child and we all love our \"magrits\". it's french delicacy that we all enjoy.\n",
            "Original summary: wonderful desserts\n",
            "Predicted summary:  great product \n",
            "\n",
            "\n",
            "Review: i really love this product, because, my daughter who hates veggies loves these. while it's not a replacement for actual veggies, it makes me feel good that she's at least getting something.\n",
            "Original summary: easy and convenient\n",
            "Predicted summary:  great product \n",
            "\n",
            "\n",
            "Review: we find the orange herbal tea to be very effective in reducing stress. i tastes good and is ready in about 5 min.<br />a very refreshing break.\n",
            "Original summary: love that brew\n",
            "Predicted summary:  great tea \n",
            "\n",
            "\n",
            "Review: these cookies were crispy and delicious. everyone in the family from tween to grandpa loved them. this will definately become a staple in our house.\n",
            "Original summary: yummy!\n",
            "Predicted summary:  yummy ! \n",
            "\n",
            "\n",
            "Review: we've tried a ton of different k-cups, this one wins easily. great cup of coffee.\n",
            "Original summary: best k-cup yet\n",
            "Predicted summary:  great coffee \n",
            "\n",
            "\n",
            "Review: what can i say, other than everyone loves pistachios, especially shelled. price wasn't bad and received quickly. gobbled them up and ordered some more. thank you\n",
            "Original summary: pistachios shelled\n",
            "Predicted summary:  great product \n",
            "\n",
            "\n",
            "Review: little to say here. the product speaks for itself. i prefer this over the pink package stuff. no aftertaste for me. travels well in zip lock bag. came loose in the box....i thought it would have been in a plastic bag first.\n",
            "Original summary: equal\n",
            "Predicted summary:  great product \n",
            "\n",
            "\n",
            "Review: i bought this gum for my third grade students. they wrote a \"how to\" blow a bubble essay while chewing sugarless bubble yum. they loved the taste of the gum and so did i. the flavor was very good!\n",
            "Original summary: great flavored sugarless gum\n",
            "Predicted summary:  great product \n",
            "\n",
            "\n",
            "Review: good product if packing your lunch or perfect for toddlers. pricing is good considering higher in most markets.\n",
            "Original summary: kwchef\n",
            "Predicted summary:  great product \n",
            "\n",
            "\n",
            "Review: these cookies are a perfect treat....very light and crunchy wafer sweetened by the right amount of chocolate....great price and fast service\n",
            "Original summary: delicious!!!!\n",
            "Predicted summary:  yummy \n",
            "\n",
            "\n",
            "Review: saw the starbucks coffee at an excellent price and it was free shipping, my daughter and son-in-law in phoenix love their coffee, so what a great treat they got and were thrilled with it, thanks for the sales up-dates..\n",
            "Original summary: great price...\n",
            "Predicted summary:  great coffee \n",
            "\n",
            "\n",
            "Review: i like the chocolate alot better than the original version. there isn't much of an after taste and it goes down easy.\n",
            "Original summary: the taste is not bad\n",
            "Predicted summary:  good stuff \n",
            "\n",
            "\n",
            "Review: this is some of the best pickle i've ever had! great on papad. give it a try....\n",
            "Original summary: great pickle!!\n",
            "Predicted summary:  great protein bar ! \n",
            "\n",
            "\n",
            "Review: slightly sweet, slightly salty! a great snack that is a heathier alternative to regualar potato chips.\n",
            "Original summary: great snack\n",
            "Predicted summary:  great snack ! \n",
            "\n",
            "\n",
            "Review: my dog loves this dry food and it is so much healthier for her than purina or similar brands.\n",
            "Original summary: halo dog food\n",
            "Predicted summary:  dog loves it \n",
            "\n",
            "\n",
            "Review: i used to get this tea when i lived in washington state and missed it. a niece told me it was available at amazon. it is every bit as good as i remember!! great offering. thanks.\n",
            "Original summary: delicious market spice tea\n",
            "Predicted summary:  great tea \n",
            "\n",
            "\n",
            "Review: i like these brownies and love that they are not as terrible for you as other sweets. i made a single serving using diet coke and yum. for anyone who needs a dessert fix, this is awesome. try it with diet coke and cut the calories even more!\n",
            "Original summary: love\n",
            "Predicted summary:  great product \n",
            "\n",
            "\n",
            "Review: what can i say. they're peanut butter chips. ordering them from amazon saved me a trip to the store and saved a few bucks. these are what you would expect from reese and enhance the flavor of any recipe requiring peanut butter.\n",
            "Original summary: peanut butter chips\n",
            "Predicted summary:  great product \n",
            "\n",
            "\n",
            "Review: have had other brands like this before, and have always enjoyed them. these were a really good bargain on sale.\n",
            "Original summary: would buy again\n",
            "Predicted summary:  great product \n",
            "\n",
            "\n",
            "Review: since we eat quite a bit of salmon we've found this seasoning to be essential to our enjoyment of it. we've never tried it on other foods, but it would probably be great on a lot of things.\n",
            "Original summary: best for salmon\n",
            "Predicted summary:  great product \n",
            "\n",
            "\n",
            "Review: the products is good and gets to me in good condition, however, it takes too long to be delivered.\n",
            "Original summary: badia, dried shrimp\n",
            "Predicted summary:  great product \n",
            "\n",
            "\n",
            "Review: we chose this variety when another was out of stock and are very satisfied. plenty of flavor even though it is not dark roast. we would buy it again.\n",
            "Original summary: good choice\n",
            "Predicted summary:  good coffee \n",
            "\n",
            "\n",
            "Review: this is a nice snack with very few calories so it is good for dieters. it has a nice flavor and is kind of crunchy.\n",
            "Original summary: great snack\n",
            "Predicted summary:  great snack \n",
            "\n",
            "\n",
            "Review: this is a very good product and comes very close to \"fresh from the kitchen\" but breaking the clumps/adding the water to get the right consistency isn't as easy as one would think.\n",
            "Original summary: tasty!\n",
            "Predicted summary:  great product \n",
            "\n",
            "\n",
            "Review: i love this protein snack bar. tastes more like a candy bar than a protein bar and is easy to eat, easy to digest and a very quick & satisfying snack. i use it as a meal replacement or a fast way to stop my chocolate cravings. love it.\n",
            "Original summary: yummy\n",
            "Predicted summary:  great snack \n",
            "\n",
            "\n",
            "Review: best tasting green tea around a bit pricey . i tried yogi green tea because it was cheaper it was good but not a smooth and rich tasting.i will stick with traditional medicinal from now on.\n",
            "Original summary: great tasting\n",
            "Predicted summary:  great tea \n",
            "\n",
            "\n",
            "Review: this is great for everyday busy self feeders or you can get a attachable spoon from boon company that works great. great taste and it's great for stroller snack!!!!\n",
            "Original summary: great\n",
            "Predicted summary:  great product \n",
            "\n",
            "\n",
            "Review: this was a gift for mom who had run out. she swears by it for calming her stomach, says it still works.\n",
            "Original summary: mom swears by it\n",
            "Predicted summary:  great product \n",
            "\n",
            "\n",
            "Review: not cheap but well worth it! i was reluctant to try this tea as having been a red rose drinker for years. pg tips is clearly a much better tea than any of the national brands. we are hooked!\n",
            "Original summary: great black tea\n",
            "Predicted summary:  great tea ! \n",
            "\n",
            "\n",
            "Review: i was surprised to see that this product actually works, but they don't warn you about the god-awful smell. it's horrid, truly.\n",
            "Original summary: actually works.\n",
            "Predicted summary:  great product \n",
            "\n",
            "\n",
            "Review: i cannot imagine what the other reviewer was thinking. these are the perfect, healthy treats for dogs of all breeds. my dogs love these and they make absolutely no mess at all.\n",
            "Original summary: perfect treats for large dogs\n",
            "Predicted summary:  great treats ! \n",
            "\n",
            "\n",
            "Review: for the price, i am not impressed with this tea. i wanted to taste prominent jasmine flavor, and have enjoyed much tastier jasmine pearl tea in the past. i am glad that it this particular product is organic, but i just think you can do better, for the money.\n",
            "Original summary: overpriced\n",
            "Predicted summary:  great tea \n",
            "\n",
            "\n",
            "Review: i love crystal light peach tea and it has become hard to find at grocery stores. i now order it from amazon. i love the convenience.\n",
            "Original summary: love this tea\n",
            "Predicted summary:  great tea \n",
            "\n",
            "\n",
            "Review: a very good, bold coffee. rich & bold. like the bad claims it \"will wake the dead\". i've been drinking raven's brew coffee for over 5 years and this one is one of my favorites.\n",
            "Original summary: good stuff\n",
            "Predicted summary:  great coffee \n",
            "\n",
            "\n",
            "Review: pour out or use a straw! not flimsy like a lot of juice boxes. milk is good too!\n",
            "Original summary: great, convenient!\n",
            "Predicted summary:  great product ! \n",
            "\n",
            "\n",
            "Review: i enjoyed this water. it was very refreshing. i find i have some stomach sensitivity with some bottled waters. i did not have that problem with this water. nice bottles. water comes from washington.\n",
            "Original summary: spring water\n",
            "Predicted summary:  great product \n",
            "\n",
            "\n",
            "Review: i just love all mrs dash products i for one have high blood pressure this make things a little easier to watch\n",
            "Original summary: love this\n",
            "Predicted summary:  great product \n",
            "\n",
            "\n",
            "Review: i dream about this tea all day. literally dream. it is like an explosion of fruit in your mouth and has the perfect amount of caffine to leave feeling awake but not jittery.\n",
            "Original summary: so good\n",
            "Predicted summary:  great tea \n",
            "\n",
            "\n",
            "Review: enjoyed the varied cups and manufacturers...great to try coffee without committing to a large amount of any one type. will try again.\n",
            "Original summary: nice sampler\n",
            "Predicted summary:  great coffee \n",
            "\n",
            "\n",
            "Review: not just food, but creates soft, healthy coat on dogs. just rub in while petting.\n",
            "Original summary: good for dogs' coat\n",
            "Predicted summary:  great product \n",
            "\n",
            "\n",
            "Review: i love twinings earl gery. it's been my favorite since my childhood. decaf also tastes fine. it gives a little weaker tea, but i like it.\n",
            "Original summary: favorite earl grey\n",
            "Predicted summary:  great tea \n",
            "\n",
            "\n",
            "Review: amazon emailed me to review this product. all i can say is yum, yum!! the whole family really loves it!! for a meal or a snack it simply can't be beat!!\n",
            "Original summary: yum !!\n",
            "Predicted summary:  yummy ! \n",
            "\n",
            "\n",
            "Review: one drink of this and i said goodbye to arizona or any other brand. great taste for a great cause!\n",
            "Original summary: ja mon!\n",
            "Predicted summary:  great product \n",
            "\n",
            "\n",
            "Review: always looking for ways to cut fat & calories. this does that and kept the original flavor. grandchildren, loved it too.\n",
            "Original summary: loved it!!!\n",
            "Predicted summary:  great product \n",
            "\n",
            "\n",
            "Review: this is the best popcorn i've had (salt and butter mix) is perfect.<br /><br />not overly in either way.\n",
            "Original summary: best microwave ever\n",
            "Predicted summary:  best popcorn ever \n",
            "\n",
            "\n",
            "Review: this is a good quality litter at a good price i will continue to use it. have it ordered on drop shipment.\n",
            "Original summary: good litter good price\n",
            "Predicted summary:  great product \n",
            "\n",
            "\n",
            "Review: this is a very dark and strong pod of coffee. if you are looking for a pod that comes close to the strenght of a drip machine this one comes very close.\n",
            "Original summary: good stuff\n",
            "Predicted summary:  great coffee \n",
            "\n",
            "\n",
            "Review: very good coffee beans. good flavor with all the various types. would purchase again. the price was right. the smaller packages were also good to keep beans fresh.\n",
            "Original summary: good coffee flavor\n",
            "Predicted summary:  great coffee \n",
            "\n",
            "\n",
            "Review: we love our keuring brewer and we love this coffee. the value for the 50 count pack is right on.\n",
            "Original summary: great coffee\n",
            "Predicted summary:  great coffee \n",
            "\n",
            "\n",
            "Review: i have been using this for a while now.i use it every day and like the idea that i can add fiber to any recipe calling for sugar. works great for my low carb diet.\n",
            "Original summary: great stuff!\n",
            "Predicted summary:  great product \n",
            "\n",
            "\n",
            "Review: great...gluten free...edward & sons not-beef bouillon cubes, 3.1-ounce boxes (pack of 12)...i bought the beef and chicken...good for flavoring...also great for making gravy...very happy to find this product! ⁇ \n",
            "Original summary: great...gluten free...\n",
            "Predicted summary:  great product ! \n",
            "\n",
            "\n",
            "Review: i am glad i was able to find these on this site. i love this flavor and they are so crunchy. the box is packed inside another box but still some bags end up as crumbs. most of the bags survived in tact.\n",
            "Original summary: my favorite flavor\n",
            "Predicted summary:  great product \n",
            "\n",
            "\n",
            "Review: good product at a good price. taste is better than most, very mild, and not overpowering by any means. would buy again.\n",
            "Original summary: good product\n",
            "Predicted summary:  good stuff \n",
            "\n",
            "\n",
            "Review: yummy, healthy fun snack. great whether you eat them right out of the bag or put them in cereal, yogurt whatever. highly recommend.\n",
            "Original summary: great!\n",
            "Predicted summary:  great snack \n",
            "\n",
            "\n",
            "Review: my little one just loves it. great food for babies from 5-9 months age group\n",
            "Original summary: great stuff\n",
            "Predicted summary:  great product \n",
            "\n",
            "\n",
            "Review: my husband & i are loving the 3 cases of gloria jean's butter toffee each month, you think we have a problem? love the taste!\n",
            "Original summary: butter toffee addiction\n",
            "Predicted summary:  great product ! \n",
            "\n",
            "\n",
            "Review: again if you love hot or spicy products you are going to love this one! my son just love this item and can literialy the whole jar by itself.\n",
            "Original summary: hot hot hot\n",
            "Predicted summary:  great stuff ! \n",
            "\n",
            "\n",
            "Review: i have tried a lot of decaf coffee and this has the best taste of any. it is so good that i believe i could give up the regular coffee. amazon offers it with free shipping and the convenience is great.\n",
            "Original summary: decaf\n",
            "Predicted summary:  great coffee \n",
            "\n",
            "\n",
            "Review: this coconut oil has great taste eaten alone or when cooking. my girls love it when i cook their eggs.\n",
            "Original summary: great coconut oil\n",
            "Predicted summary:  great product \n",
            "\n",
            "\n",
            "Review: this coffee was too weak for me. i found some green mountain french roast decaf at a local bed and bath store and really like it - it's bolder, stronger.\n",
            "Original summary: too weak\n",
            "Predicted summary:  coffee \n",
            "\n",
            "\n",
            "Review: we love our keurig coffeemaker and have tried many coffees. recently discovered wolfgang puck's new line of coffees and are pleased with all of his we have tried. this one is smooth with a great flavor, no bite. we would purchase this again.\n",
            "Original summary: great coffee\n",
            "Predicted summary:  great coffee \n",
            "\n",
            "\n",
            "Review: seriously the best jerk i've had!! i just wish it were more available... but you won't be sorry you bought it!\n",
            "Original summary: amazing!!\n",
            "Predicted summary:  great product ! \n",
            "\n",
            "\n",
            "Review: i was sad that stores where i live stopped carrying this product, but it was great to find it on amazon. this tea has just a hint of chocolate so it is great if you are trying to watch you calories, and makes a great substitute for hot chocolate!\n",
            "Original summary: great tea!\n",
            "Predicted summary:  great tasting tea \n",
            "\n",
            "\n",
            "Review: absolutely love these chips, have introduced them to many of my friends. first time i tried them was the large bag and i ate the whole thing.\n",
            "Original summary: sweet potato pop chips\n",
            "Predicted summary:  great chips \n",
            "\n",
            "\n",
            "Review: a new, unopened bag, just as described, took longer than i had hopped, but worth the wait.\n",
            "Original summary: as described\n",
            "Predicted summary:  great product \n",
            "\n",
            "\n",
            "Review: have used this product for years, but haven't been able to find it in grocery stores for a long time. finally found it on amazon...purchased it...and now the spaghetti is back to being what i like best. nothing beats the flavor of lawry's spaghetti sauce.\n",
            "Original summary: awesome spaghetti mix\n",
            "Predicted summary:  great product \n",
            "\n",
            "\n",
            "Review: the gloria jeans french vanilla supreme is a good k-cup for the price. sometimes i find the vanilla taste a little over powering and the coffee a little bitter, but overall i like the coffee. i love the tully's brand even mor though!!\n",
            "Original summary: good coffee for price\n",
            "Predicted summary:  great coffee \n",
            "\n",
            "\n",
            "Review: this coffee is so good. i am a diehard dunkin donuts fan but the value of the caribou is unbeatable. i drink it every morning and have placed multiple orders. i love it!\n",
            "Original summary: great coffee\n",
            "Predicted summary:  great coffee \n",
            "\n",
            "\n",
            "Review: i bought this at the same time as the course salt and was very happy with both. they are as they described. i put this one in my kitchen salt shaker. spice lab puts out a quality product at a reasonable price.\n",
            "Original summary: great salt\n",
            "Predicted summary:  great product \n",
            "\n",
            "\n",
            "Review: by far the best stevia. i've tried others, but none compare to this brand. i go through a lot of this particular product in smoothies and green drinks.\n",
            "Original summary: best brand of stevia\n",
            "Predicted summary:  best tasting bar ever \n",
            "\n",
            "\n",
            "Review: my celtic sea salt is wonderful, tastey and good for you. it arrived on time and undamaged. thanks so much. jan oliver\n",
            "Original summary: i love it\n",
            "Predicted summary:  great product \n",
            "\n",
            "\n",
            "Review: i really love these wafer cookies. why can't i get them directly from  ⁇ ... ⁇  with my regular orders from them?<br />wouldn't that be less expensive for you and for me and for the environment?\n",
            "Original summary: almond thins\n",
            "Predicted summary:  great cookies \n",
            "\n",
            "\n",
            "Review: we love fig bars and wanted more natural option than grocery store. but these are not edible, even my toddler won't eat them because they are just too sweet.\n",
            "Original summary: way too sweet\n",
            "Predicted summary:  great snack \n",
            "\n",
            "\n",
            "Review: i have purchased different brands of saigon or vietnamese cinnamon and found the kirkland brand meets up to the quality of much more expensive brands. i store mine in the freezer and it's as fresh and aromatic as the day i opened it. i highly recommend it!\n",
            "Original summary: great cinnamon\n",
            "Predicted summary:  great product \n",
            "\n",
            "\n",
            "Review: this is the taste of honey i remember from when i was a kid. the best honey ever. the balance is perfect.\n",
            "Original summary: best honey ever\n",
            "Predicted summary:  best gluten free bread \n",
            "\n",
            "\n",
            "Review: love to cook and this pre-measured couscous is perfect for salads, side dish or added to a main course.\n",
            "Original summary: easy couscous\n",
            "Predicted summary:  great product \n",
            "\n",
            "\n",
            "Review: i think that drak chocolate is quite bitter. this choclate is not as sweet and as easy to melt as milk chocolate but still tastes good enough.\n",
            "Original summary: tastes good\n",
            "Predicted summary:  yummy \n",
            "\n",
            "\n",
            "Review: gimborn freeze dried treats 21 oz beef liver is one of my dog's favorite treats, so i was happy to find them in a large size container. i received my order very quickly, and was happy with the service i received.\n",
            "Original summary: excellent service\n",
            "Predicted summary:  dog treats \n",
            "\n",
            "\n",
            "Review: post frosted shredded wheat is my favorite cereal and it's hard to find in the stores. purchasing it through amazon was fast and easy!\n",
            "Original summary: cereal junkie\n",
            "Predicted summary:  great product \n",
            "\n",
            "\n",
            "Review: these are good chips! maybe not as tasty as some other unhealthy chips, but i would definitely buy them again.\n",
            "Original summary: good chips!\n",
            "Predicted summary:  great chips \n",
            "\n",
            "\n",
            "Review: this is the \"all gone\" treat after dinner. it's the only treat that the dogs work for; and i did run the chance of losing a hand. they know a new command now: \"be gentle\" when taking liver treats.\n",
            "Original summary: dogs love it.\n",
            "Predicted summary:  great treat \n",
            "\n",
            "\n",
            "Review: i just didn't enjoy this product as much as i'd hoped. i'd expected something with a bit more kick i guess. still good, but not something i'm likely to purchase again.\n",
            "Original summary: not bad, but...\n",
            "Predicted summary:  not bad \n",
            "\n",
            "\n",
            "Review: nature's path organic toaster pastries,frosted strawberry are so good.i've been buying them for years.i'd tell anyone to buy and eat these.<br />heated up with a glass of milk....heaven.\n",
            "Original summary: yummy :)\n",
            "Predicted summary:  great product \n",
            "\n",
            "\n"
          ],
          "name": "stdout"
        }
      ]
    },
    {
      "cell_type": "code",
      "metadata": {
        "id": "6qJRe38zqRDo",
        "colab_type": "code",
        "colab": {}
      },
      "source": [
        "%tensorboard --logdir logs\n",
        "#click \"Graphs\" on the menu bar and take a look those generated grpahs"
      ],
      "execution_count": 0,
      "outputs": []
    },
    {
      "cell_type": "code",
      "metadata": {
        "id": "_JxzOvnEs_sJ",
        "colab_type": "code",
        "outputId": "20624f1a-6602-4257-92b7-710e34992b54",
        "colab": {
          "base_uri": "https://localhost:8080/",
          "height": 71
        }
      },
      "source": [
        "\n",
        "![This image is just show effect of tensorboard.](https://drive.google.com/file/d/1ak1cPo4oTgbYKMOkz0JxBw1QwQ9bJNIf/view?usp=sharing)"
      ],
      "execution_count": 0,
      "outputs": [
        {
          "output_type": "stream",
          "text": [
            "/bin/bash: -c: line 0: syntax error near unexpected token `('\n",
            "/bin/bash: -c: line 0: `[This image is just show effect of tensorboard. ](https://drive.google.com/file/d/1ak1cPo4oTgbYKMOkz0JxBw1QwQ9bJNIf/view?usp=sharing)'\n"
          ],
          "name": "stdout"
        }
      ]
    }
  ]
}